{
  "nbformat": 4,
  "nbformat_minor": 0,
  "metadata": {
    "colab": {
      "provenance": []
    },
    "kernelspec": {
      "name": "python3",
      "display_name": "Python 3"
    },
    "language_info": {
      "name": "python"
    }
  },
  "cells": [
    {
      "cell_type": "markdown",
      "metadata": {
        "id": "vuaCFMBqXJgo"
      },
      "source": [
        "# Download and Extract Data"
      ]
    },
    {
      "cell_type": "code",
      "execution_count": 1,
      "metadata": {
        "colab": {
          "base_uri": "https://localhost:8080/"
        },
        "id": "2kVlaQl7Tahy",
        "outputId": "89b33242-ca4d-4ac5-867e-f10ef359507e"
      },
      "outputs": [
        {
          "output_type": "stream",
          "name": "stdout",
          "text": [
            "Cloning into 'Useful-Corpora-for-Text-Mining-in-Persian-Language'...\n",
            "remote: Enumerating objects: 18, done.\u001b[K\n",
            "remote: Total 18 (delta 0), reused 0 (delta 0), pack-reused 18 (from 1)\u001b[K\n",
            "Receiving objects: 100% (18/18), 478.78 MiB | 26.17 MiB/s, done.\n",
            "Updating files: 100% (8/8), done.\n"
          ]
        }
      ],
      "source": [
        "![ -d \"Useful-Corpora-for-Text-Mining-in-Persian-Language\" ] || git clone \"https://github.com/Text-Mining/Useful-Corpora-for-Text-Mining-in-Persian-Language\""
      ]
    },
    {
      "cell_type": "code",
      "execution_count": 2,
      "metadata": {
        "colab": {
          "base_uri": "https://localhost:8080/"
        },
        "id": "qcVIBTIiTahz",
        "outputId": "f1da8867-e3bf-4b7f-be5d-e0115b04aeac"
      },
      "outputs": [
        {
          "output_type": "stream",
          "name": "stdout",
          "text": [
            "\n",
            "UNRAR 6.11 beta 1 freeware      Copyright (c) 1993-2022 Alexander Roshal\n",
            "\n",
            "\n",
            "Extracting from /content/Useful-Corpora-for-Text-Mining-in-Persian-Language/News/FarsNews 97/farsnews.part01.rar\n",
            "\n",
            "Extracting  farsnews.json                                                \b\b\b\b  0%\b\b\b\b  1%\b\b\b\b  2%\b\b\b\b  3%\b\b\b\b  4%\b\b\b\b  5%\b\b\b\b  6%\b\b\b\b  7%\b\b\b\b  8%\b\b\b\b  9%\b\b\b\b 10%\b\b\b\b 11%\b\b\b\b 12%\b\b\b\b 13%\b\b\b\b 14%\b\b\b\b 15%\b\b\b\b 16%\b\b\b\b 17%\b\b\b\b 18%\b\b\b\b 19%\b\b\b\b 20%\b\b\b\b 21%\b\b\b\b 22%\b\b\b\b 23%\b\b\b\b 24%\b\b\b\b 25%\b\b\b\b 26%\b\b\b\b 27%\b\b\b\b 28%\b\b\b\b 29%\b\b\b\b 30%\b\b\b\b 31%\b\b\b\b 32%\b\b\b\b 33%\b\b\b\b 34%\b\b\b\b 35%\b\b\b\b 36%\b\b\b\b 37%\b\b\b\b 38%\n",
            "\n",
            "Extracting from /content/Useful-Corpora-for-Text-Mining-in-Persian-Language/News/FarsNews 97/farsnews.part02.rar\n",
            "\n",
            "...         farsnews.json                                                \b\b\b\b 39%\b\b\b\b 40%\b\b\b\b 41%\b\b\b\b 42%\b\b\b\b 43%\b\b\b\b 44%\b\b\b\b 45%\b\b\b\b 46%\b\b\b\b 47%\b\b\b\b 48%\b\b\b\b 49%\b\b\b\b 50%\b\b\b\b 51%\b\b\b\b 52%\b\b\b\b 53%\b\b\b\b 54%\b\b\b\b 55%\b\b\b\b 56%\b\b\b\b 57%\b\b\b\b 58%\b\b\b\b 59%\b\b\b\b 60%\b\b\b\b 61%\b\b\b\b 62%\b\b\b\b 63%\b\b\b\b 64%\b\b\b\b 65%\b\b\b\b 66%\b\b\b\b 67%\b\b\b\b 68%\b\b\b\b 69%\b\b\b\b 70%\b\b\b\b 71%\b\b\b\b 72%\b\b\b\b 73%\b\b\b\b 74%\b\b\b\b 75%\b\b\b\b 76%\b\b\b\b 77%\n",
            "\n",
            "Extracting from /content/Useful-Corpora-for-Text-Mining-in-Persian-Language/News/FarsNews 97/farsnews.part03.rar\n",
            "\n",
            "...         farsnews.json                                                \b\b\b\b 78%\b\b\b\b 79%\b\b\b\b 80%\b\b\b\b 81%\b\b\b\b 82%\b\b\b\b 83%\b\b\b\b 84%\b\b\b\b 85%\b\b\b\b 86%\b\b\b\b 87%\b\b\b\b 88%\b\b\b\b 89%\b\b\b\b 90%\b\b\b\b 91%\b\b\b\b 92%\b\b\b\b 93%\b\b\b\b 94%\b\b\b\b 95%\b\b\b\b 96%\b\b\b\b 97%\b\b\b\b 98%\b\b\b\b 99%\b\b\b\b100%\b\b\b\b\b  OK \n",
            "All OK\n"
          ]
        }
      ],
      "source": [
        "!pip install -q unrar\n",
        "![ -f farsnews.json ] || unrar x '/content/Useful-Corpora-for-Text-Mining-in-Persian-Language/News/FarsNews 97/farsnews.part01.rar'"
      ]
    },
    {
      "cell_type": "markdown",
      "metadata": {
        "id": "eXco0-14XThC"
      },
      "source": [
        "#Read Data"
      ]
    },
    {
      "cell_type": "code",
      "execution_count": 3,
      "metadata": {
        "id": "izc5QQuBXTAR"
      },
      "outputs": [],
      "source": [
        "import json\n",
        "counter = 0\n",
        "news=[] # { CategoryPanel[], NewsDate, NewsTitle, NewsSummary, NewsBody, GetComments: { CommentsJsonArray[] } }\n",
        "\n",
        "# Read just one line of data for now\n",
        "for line in open('farsnews.json','r', encoding='utf-8-sig'):\n",
        "  news.append(json.loads(line))\n",
        "  counter+=1\n",
        "  if(counter == 1):\n",
        "    break"
      ]
    },
    {
      "cell_type": "markdown",
      "source": [
        "# Parsivar Module"
      ],
      "metadata": {
        "id": "vh73cuGsNLrT"
      }
    },
    {
      "cell_type": "markdown",
      "source": [
        "## Modules Installation"
      ],
      "metadata": {
        "id": "_yrDfX5NLtha"
      }
    },
    {
      "cell_type": "code",
      "execution_count": 4,
      "metadata": {
        "id": "RcNjOTm512Q6",
        "colab": {
          "base_uri": "https://localhost:8080/"
        },
        "outputId": "10b18ed6-74e2-43f3-f3f8-2ba8b15a2d95"
      },
      "outputs": [
        {
          "output_type": "stream",
          "name": "stdout",
          "text": [
            "Collecting parsivar\n",
            "  Downloading parsivar-0.2.3.1-py3-none-any.whl.metadata (242 bytes)\n",
            "Requirement already satisfied: nltk>=3.6.6 in /usr/local/lib/python3.10/dist-packages (from parsivar) (3.8.1)\n",
            "Requirement already satisfied: click in /usr/local/lib/python3.10/dist-packages (from nltk>=3.6.6->parsivar) (8.1.7)\n",
            "Requirement already satisfied: joblib in /usr/local/lib/python3.10/dist-packages (from nltk>=3.6.6->parsivar) (1.4.2)\n",
            "Requirement already satisfied: regex>=2021.8.3 in /usr/local/lib/python3.10/dist-packages (from nltk>=3.6.6->parsivar) (2024.9.11)\n",
            "Requirement already satisfied: tqdm in /usr/local/lib/python3.10/dist-packages (from nltk>=3.6.6->parsivar) (4.66.5)\n",
            "Downloading parsivar-0.2.3.1-py3-none-any.whl (18.0 MB)\n",
            "\u001b[2K   \u001b[90m━━━━━━━━━━━━━━━━━━━━━━━━━━━━━━━━━━━━━━━━\u001b[0m \u001b[32m18.0/18.0 MB\u001b[0m \u001b[31m42.9 MB/s\u001b[0m eta \u001b[36m0:00:00\u001b[0m\n",
            "\u001b[?25hInstalling collected packages: parsivar\n",
            "Successfully installed parsivar-0.2.3.1\n"
          ]
        }
      ],
      "source": [
        "# parsivar installation\n",
        "!pip3 install parsivar\n",
        "# Docs: https://github.com/ICTRC/Parsivar"
      ]
    },
    {
      "cell_type": "markdown",
      "source": [
        "## Imports"
      ],
      "metadata": {
        "id": "N1hDX9djNSIW"
      }
    },
    {
      "cell_type": "code",
      "source": [
        "from parsivar import Normalizer as ParsivarNormalizer\n",
        "from parsivar import Tokenizer as ParsivarTokenizer\n",
        "from parsivar import FindStems as ParsivarStemmer"
      ],
      "metadata": {
        "id": "M9_rvDDbNTdH"
      },
      "execution_count": 5,
      "outputs": []
    },
    {
      "cell_type": "markdown",
      "metadata": {
        "id": "WzrGixDW2ur0"
      },
      "source": [
        "## Process Data With Parsivar"
      ]
    },
    {
      "cell_type": "code",
      "execution_count": 6,
      "metadata": {
        "id": "SQweWtjK3z05"
      },
      "outputs": [],
      "source": [
        "# Clean and standardize the text\n",
        "def parsivar_normalize(text):\n",
        "  # preprocesing => remove '\\n'\n",
        "  removeNewline = text.replace(\"\\r\\n\", \"\")\n",
        "\n",
        "  normalizer = ParsivarNormalizer(date_normalizing_needed=True,pinglish_conversion_needed = True, statistical_space_correction=True)\n",
        "  normalized = normalizer.normalize(removeNewline)\n",
        "\n",
        "  print(\"(PARSIVAR): normalized body: \", normalized)\n",
        "  return normalized"
      ]
    },
    {
      "cell_type": "code",
      "execution_count": 7,
      "metadata": {
        "id": "WHMHTpoq33Be"
      },
      "outputs": [],
      "source": [
        "# Splits the text into individual words or sentences\n",
        "def parsivar_tokenize(text):\n",
        "  tokenizer = ParsivarTokenizer()\n",
        "\n",
        "  # to split text to words\n",
        "  tokenized_words = tokenizer.tokenize_words(ParsivarNormalizer().normalize(text))\n",
        "  tokenized_text = tokenizer.tokenize_sentences(text)\n",
        "\n",
        "  print(\"(PARSIVAR): tokenized body: \", tokenized_words)\n",
        "  return tokenized_words, tokenized_text"
      ]
    },
    {
      "cell_type": "code",
      "execution_count": 8,
      "metadata": {
        "id": "R2Aag2UJfB3O"
      },
      "outputs": [],
      "source": [
        "# Reduce words to their root or stem form\n",
        "def parsivar_stem(words):\n",
        "  stemmer = ParsivarStemmer()\n",
        "\n",
        "  stemmed = []\n",
        "  for word in words:\n",
        "    stemmed.append(stemmer.convert_to_stem(word))\n",
        "\n",
        "  print(\"(PARSIVAR): stemmer result: \", stemmed)\n",
        "  return stemmed"
      ]
    },
    {
      "cell_type": "code",
      "execution_count": 9,
      "metadata": {
        "id": "UuXsETx73woR"
      },
      "outputs": [],
      "source": [
        "# Take a news article as input and apply the steps to its body text\n",
        "def parsivar_process_news(news):\n",
        "  news_body = news['NewsBody']\n",
        "  normalized_body = parsivar_normalize(news_body)\n",
        "  tokenized_body = parsivar_tokenize(normalized_body)\n",
        "  stemmed_body = parsivar_stem(tokenized_body[0])"
      ]
    },
    {
      "cell_type": "markdown",
      "source": [
        "##Results"
      ],
      "metadata": {
        "id": "ackWe3lJN-Hq"
      }
    },
    {
      "cell_type": "code",
      "source": [
        "for i in range(counter):\n",
        "  print(f\"Text: {news[i]['NewsBody']}\\n\")\n",
        "\n",
        "  print(\"Parsivar Proccess: \")\n",
        "  parsivar_process_news(news[i])\n",
        "  print()"
      ],
      "metadata": {
        "id": "xCdvIgRlOAVw",
        "colab": {
          "base_uri": "https://localhost:8080/"
        },
        "outputId": "e87d2801-dc16-4606-ee5d-8ee0eb510afa"
      },
      "execution_count": 10,
      "outputs": [
        {
          "output_type": "stream",
          "name": "stdout",
          "text": [
            "Text: محمد نوری در گفت\r\n",
            "وگو\r\n",
            "با خبرنگار ورزشی خبرگزاری فارس در مورد پیروزی ۳ بر ۲ ذوب‌آهن مقابل الغرافه قطر گفت: نیمه اول الغرافه خوب بازی کرد اما نیمه مربیان را منصوریان برد. البته نباید فراموش کنیم که الغرافه خط دفاع ضعیفی دارد و در بازی‌های اخیرش ۱۳-۱۴ گل دریافت کرده بود.\r\n",
            "با این\r\n",
            "حال علیرضا منصوریان حریف را به خوبی آنالیز کرده بود و توانست یک بازگشت رویایی داشته باشد نیمه مربیان را ببرد.\r\n",
            "وی گفت: در نیمه دوم حدادی‌فر عالی کار کرد. تعویض حسینی هم جناح راست ذوب‌آهن را راه انداخت و بازیکنان خارجی ذوب‌آهن هم عالی بودند. به نظر من هافبک‌های ذوب‌آهن در نیمه دوم فوق\r\n",
            "العاده\r\n",
            "کار کردند.\r\n",
            "این پیشکسوت استقلال با اشاره به تیزهوشی مهاجمان ذوب‌آهن گفت: مدافعان الغرافه مرتکب اشتباه شدند و بازیکنان تیزهوش ذوب‌آهن از این فرصت نهایت استفاده را بردند البته ذوب‌آهن مستحق زدن گل‌های بیشتری هم بود.\r\n",
            "نوری در مورد دیدار یکشنبه آینده استقلال با ذوب‌آهن در لیگ برتر اظهار داشت: شرایط هر مسابقه با بازی دیگر متفاوت است بازی با الغرافه یک بازی حساس و حذفی بود اما ذوب‌آهن اکنون باید ریکاوری خوبی داشته باشد تا به آن بازی برسد استقلال هم قبل از آن مسابقه باید با پارس جنوبی امروز عصر بازی کند که سه امتیاز این مسابقه بسیار حساس است. در بازی استقلال و ذوب‌آهن جنگ اصلی بین هافبک‌ها است و هر تیمی که خط میانی‌اش خوب عمل کند برنده آن بازی خواهد شد.\r\n",
            "انتهای\r\n",
            "پیام/ک\n",
            "\n",
            "Parsivar Proccess: \n",
            "(PARSIVAR): normalized body:  محمد نوری در گفتوگوبا خبرنگار ورزشی خبرگزاری فارس در مورد پیروزی 3 بر 2 ذوب‌آهن مقابل الغرافه قطر گفت : نیمه 1 الغرافه خوب بازی کرد اما نیمه مربیان را منصوریان‌برد . البته نباید فراموش کنیم که الغرافه خط دفاع ضعیفی دارد و در بازی‌های اخیرش 13 - 14 گل دریافت کرده بود . با اینحال علیرضا منصوریان حریف را به خوبی آنالیز کرده بود و توانست 1 بازگشت رویایی داشته باشد نیمه مربیان را ببرد . وی گفت : در نیمه 2 حدادی‌فر عالی کار کرد . تعویض حسینی هم جناح راست ذوب‌آهن را راه انداخت و بازیکنان خارجی ذوب‌آهن هم عالی بودند . به نظر من هافبک‌های ذوب‌آهن در نیمه 2 فوقالعادهکار‌کردند . این پیشکسوت استقلال با اشاره به تیزهوشی مهاجمان ذوب‌آهن گفت : مدافعان الغرافه مرتکب اشتباه شدند و بازیکنان تیزهوش ذوب‌آهن از این فرصت نهایت استفاده را بردند البته ذوب‌آهن مستحق زدن گل‌های بیشتری هم بود . نوری در مورد دیدار یکشنبه آینده استقلال با ذوب‌آهن در لیگ برتر اظهار داشت : شرایط هر مسابقه با بازی دیگر متفاوت است بازی با الغرافه 1 بازی حساس و حذفی بود اما ذوب‌آهن اکنون باید ریکاوری‌خوبی داشته‌باشد تا به آن بازی برسد استقلال هم قبل از آن مسابقه باید با پارس جنوبی امروز عصر بازی‌کند که 3 امتیاز این مسابقه بسیار حساس است . در بازی استقلال و ذوب‌آهن جنگ اصلی بین‌هافبک‌ها است و هر تیمی که خط میانی‌اش خوب عمل کند برنده آن بازی خواهد شد . انتهایپیام / ک\n",
            "(PARSIVAR): tokenized body:  ['محمد', 'نوری', 'در', 'گفتوگوبا', 'خبرنگار', 'ورزشی', 'خبرگزاری', 'فارس', 'در', 'مورد', 'پیروزی', '3', 'بر', '2', 'ذوب\\u200cآهن', 'مقابل', 'الغرافه', 'قطر', 'گفت', ':', 'نیمه', '1', 'الغرافه', 'خوب', 'بازی', 'کرد', 'اما', 'نیمه', 'مربیان', 'را', 'منصوریان\\u200cبرد', '.', 'البته', 'نباید', 'فراموش', 'کنیم', 'که', 'الغرافه', 'خط', 'دفاع', 'ضعیفی', 'دارد', 'و', 'در', 'بازی\\u200cهای', 'اخیرش', '13', '-', '14', 'گل', 'دریافت', 'کرده\\u200cبود', '.', 'با', 'اینحال', 'علیرضا', 'منصوریان', 'حریف', 'را', 'به', 'خوبی', 'آنالیز', 'کرده\\u200cبود', 'و', 'توانست', '1', 'بازگشت', 'رویایی', 'داشته', 'باشد', 'نیمه', 'مربیان', 'را', 'ببرد', '.', 'وی', 'گفت', ':', 'در', 'نیمه', '2', 'حدادی\\u200cفر', 'عالی', 'کار', 'کرد', '.', 'تعویض', 'حسینی', 'هم', 'جناح', 'راست', 'ذوب\\u200cآهن', 'را', 'راه', 'انداخت', 'و', 'بازیکنان', 'خارجی', 'ذوب\\u200cآهن', 'هم', 'عالی\\u200cبودند', '.', 'به', 'نظر', 'من', 'هافبک\\u200cهای', 'ذوب\\u200cآهن', 'در', 'نیمه', '2', 'فوقالعادهکار\\u200cکردند', '.', 'این', 'پیشکسوت', 'استقلال', 'با', 'اشاره', 'به', 'تیزهوشی', 'مهاجمان', 'ذوب\\u200cآهن', 'گفت', ':', 'مدافعان', 'الغرافه', 'مرتکب', 'اشتباه', 'شدند', 'و', 'بازیکنان', 'تیزهوش', 'ذوب\\u200cآهن', 'از', 'این', 'فرصت', 'نهایت', 'استفاده', 'را', 'بردند', 'البته', 'ذوب\\u200cآهن', 'مستحق', 'زدن', 'گل\\u200cهای', 'بیشتری', 'هم\\u200cبود', '.', 'نوری', 'در', 'مورد', 'دیدار', 'یکشنبه', 'آینده', 'استقلال', 'با', 'ذوب\\u200cآهن', 'در', 'لیگ', 'برتر', 'اظهار', 'داشت', ':', 'شرایط', 'هر', 'مسابقه', 'با', 'بازی', 'دیگر', 'متفاوت', 'است', 'بازی', 'با', 'الغرافه', '1', 'بازی', 'حساس', 'و', 'حذفی\\u200cبود', 'اما', 'ذوب\\u200cآهن', 'اکنون', 'باید', 'ریکاوری\\u200cخوبی', 'داشته\\u200cباشد', 'تا', 'به', 'آن', 'بازی', 'برسد', 'استقلال', 'هم', 'قبل', 'از', 'آن', 'مسابقه', 'باید', 'با', 'پارس', 'جنوبی', 'امروز', 'عصر', 'بازی\\u200cکند', 'که', '3', 'امتیاز', 'این', 'مسابقه', 'بسیار', 'حساس', 'است', '.', 'در', 'بازی', 'استقلال', 'و', 'ذوب\\u200cآهن', 'جنگ', 'اصلی', 'بین\\u200cهافبک\\u200cها', 'است', 'و', 'هر', 'تیمی', 'که', 'خط', 'میانی\\u200cاش', 'خوب', 'عمل', 'کند', 'برنده', 'آن', 'بازی', 'خواهد', 'شد', '.', 'انتهایپیام', '/', 'ک']\n",
            "(PARSIVAR): stemmer result:  ['محمد', 'نوری', 'در', 'گفتوگوبا', 'خبرنگار', 'ورزشی', 'خبرگزاری', 'فارس', 'در', 'مورد', 'پیروزی', '3', 'بر', '2', 'ذوب\\u200cآهن', 'مقابل', 'الغرافه', 'قطر', 'گفت', ':', 'نیمه', '1', 'الغرافه', 'خوب', 'بازی', 'کرد', 'اما', 'نیمه', 'مربی', 'را', 'منصوریان\\u200cبرد', '.', 'البته', 'نباید', 'فراموش', 'کرد&کن', 'که', 'الغرافه', 'خط', 'دفاع', 'ضعیف', 'داشت&دارد', 'و', 'در', 'بازی', 'اخیر', '13', '-', '14', 'گل', 'دریافت', 'کرد&کن', '.', 'با', 'اینحال', 'علیرضا', 'منصوری', 'حریف', 'را', 'به', 'خوبی', 'آنالیز', 'کرد&کن', 'و', 'توانست&توان', '1', 'بازگشت', 'رویایی', 'داشته', 'باشد', 'نیمه', 'مربی', 'را', 'برد&بر', '.', 'وی', 'گفت', ':', 'در', 'نیمه', '2', 'حدادی\\u200cفر', 'عالی', 'کار', 'کرد', '.', 'تعویض', 'حسینی', 'هم', 'جناح', 'راست', 'ذوب\\u200cآهن', 'را', 'راه', 'انداخت&انداز', 'و', 'بازیکن', 'خارجی', 'ذوب\\u200cآهن', 'هم', 'عالی\\u200cبودند', '.', 'به', 'نظر', 'من', 'هافبک', 'ذوب\\u200cآهن', 'در', 'نیمه', '2', 'فوقالعادهکار\\u200cکردند', '.', 'این', 'پیشکسوت', 'استقلال', 'با', 'اشاره', 'به', 'تیزهوشی', 'مهاجم', 'ذوب\\u200cآهن', 'گفت', ':', 'مدافع', 'الغرافه', 'مرتکب', 'اشتباه', 'شد&شد', 'و', 'بازیکن', 'تیزهوش', 'ذوب\\u200cآهن', 'از', 'این', 'فرصت', 'نهایت', 'استفاده', 'را', 'برد&بر', 'البته', 'ذوب\\u200cآهن', 'مستحق', 'زدن', 'گل', 'بیشتر', 'هم\\u200cبود', '.', 'نوری', 'در', 'مورد', 'دیدار', 'یکشنبه', 'آینده', 'استقلال', 'با', 'ذوب\\u200cآهن', 'در', 'لیگ', 'برتر', 'اظهار', 'داشت&دار', ':', 'شرایط', 'هر', 'مسابقه', 'با', 'بازی', 'دیگر', 'متفاوت', 'اس', 'بازی', 'با', 'الغرافه', '1', 'بازی', 'حساس', 'و', 'حذفی\\u200cبود', 'اما', 'ذوب\\u200cآهن', 'اکنون', 'باید', 'ریکاوری\\u200cخوبی', 'داشت&دار', 'تا', 'به', 'آن', 'بازی', 'رسید&رس', 'استقلال', 'هم', 'قبل', 'از', 'آن', 'مسابقه', 'باید', 'با', 'پارس', 'جنوبی', 'امروز', 'عصر', 'بازی\\u200cکند', 'که', '3', 'امتیاز', 'این', 'مسابقه', 'بسیار', 'حساس', 'اس', '.', 'در', 'بازی', 'استقلال', 'و', 'ذوب\\u200cآهن', 'جنگ', 'اصلی', 'بین\\u200cهافبک\\u200cها', 'اس', 'و', 'هر', 'تیم', 'که', 'خط', 'میانی\\u200cاش', 'خوب', 'عمل', 'کند', 'برنده', 'آن', 'بازی', 'خواست&خواه', 'شد', '.', 'انتهایپیام', '/', 'ک']\n",
            "\n"
          ]
        }
      ]
    }
  ]
}