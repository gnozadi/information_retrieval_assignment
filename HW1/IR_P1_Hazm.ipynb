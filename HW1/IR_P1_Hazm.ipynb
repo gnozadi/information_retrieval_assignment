{
  "nbformat": 4,
  "nbformat_minor": 0,
  "metadata": {
    "colab": {
      "provenance": []
    },
    "kernelspec": {
      "name": "python3",
      "display_name": "Python 3"
    },
    "language_info": {
      "name": "python"
    }
  },
  "cells": [
    {
      "cell_type": "markdown",
      "metadata": {
        "id": "vuaCFMBqXJgo"
      },
      "source": [
        "# Download and Extract Data"
      ]
    },
    {
      "cell_type": "code",
      "execution_count": 8,
      "metadata": {
        "id": "ddpftRxHdTvl"
      },
      "outputs": [],
      "source": [
        "![ -d \"Useful-Corpora-for-Text-Mining-in-Persian-Language\" ] || git clone \"https://github.com/Text-Mining/Useful-Corpora-for-Text-Mining-in-Persian-Language\""
      ]
    },
    {
      "cell_type": "code",
      "execution_count": 9,
      "metadata": {
        "id": "9SIb8DCGdvws"
      },
      "outputs": [],
      "source": [
        "!pip install -q unrar\n",
        "![ -f farsnews.json ] || unrar x '/content/Useful-Corpora-for-Text-Mining-in-Persian-Language/News/FarsNews 97/farsnews.part01.rar'"
      ]
    },
    {
      "cell_type": "markdown",
      "metadata": {
        "id": "eXco0-14XThC"
      },
      "source": [
        "#Read Data"
      ]
    },
    {
      "cell_type": "code",
      "execution_count": 10,
      "metadata": {
        "id": "izc5QQuBXTAR"
      },
      "outputs": [],
      "source": [
        "import json\n",
        "counter = 0\n",
        "news=[] # { CategoryPanel[], NewsDate, NewsTitle, NewsSummary, NewsBody, GetComments: { CommentsJsonArray[] } }\n",
        "\n",
        "# Read just one line of data for now\n",
        "for line in open('farsnews.json','r', encoding='utf-8-sig'):\n",
        "  news.append(json.loads(line))\n",
        "  counter+=1\n",
        "  if(counter == 1):\n",
        "    break"
      ]
    },
    {
      "cell_type": "markdown",
      "source": [
        "# Hazm Module"
      ],
      "metadata": {
        "id": "4qqYvmlmLnt9"
      }
    },
    {
      "cell_type": "markdown",
      "metadata": {
        "id": "2tp4XkCn1M-r"
      },
      "source": [
        "## Modules Installation"
      ]
    },
    {
      "cell_type": "code",
      "execution_count": 11,
      "metadata": {
        "id": "YN3KlMv81Q5j",
        "colab": {
          "base_uri": "https://localhost:8080/"
        },
        "outputId": "4b14937f-4867-4ee6-d391-d4fa88920102"
      },
      "outputs": [
        {
          "output_type": "stream",
          "name": "stdout",
          "text": [
            "Requirement already satisfied: hazm in /usr/local/lib/python3.10/dist-packages (0.10.0)\n",
            "Requirement already satisfied: fasttext-wheel<0.10.0,>=0.9.2 in /usr/local/lib/python3.10/dist-packages (from hazm) (0.9.2)\n",
            "Requirement already satisfied: flashtext<3.0,>=2.7 in /usr/local/lib/python3.10/dist-packages (from hazm) (2.7)\n",
            "Requirement already satisfied: gensim<5.0.0,>=4.3.1 in /usr/local/lib/python3.10/dist-packages (from hazm) (4.3.3)\n",
            "Requirement already satisfied: nltk<4.0.0,>=3.8.1 in /usr/local/lib/python3.10/dist-packages (from hazm) (3.8.1)\n",
            "Requirement already satisfied: numpy==1.24.3 in /usr/local/lib/python3.10/dist-packages (from hazm) (1.24.3)\n",
            "Requirement already satisfied: python-crfsuite<0.10.0,>=0.9.9 in /usr/local/lib/python3.10/dist-packages (from hazm) (0.9.10)\n",
            "Requirement already satisfied: scikit-learn<2.0.0,>=1.2.2 in /usr/local/lib/python3.10/dist-packages (from hazm) (1.5.2)\n",
            "Requirement already satisfied: pybind11>=2.2 in /usr/local/lib/python3.10/dist-packages (from fasttext-wheel<0.10.0,>=0.9.2->hazm) (2.13.6)\n",
            "Requirement already satisfied: setuptools>=0.7.0 in /usr/local/lib/python3.10/dist-packages (from fasttext-wheel<0.10.0,>=0.9.2->hazm) (71.0.4)\n",
            "Requirement already satisfied: scipy<1.14.0,>=1.7.0 in /usr/local/lib/python3.10/dist-packages (from gensim<5.0.0,>=4.3.1->hazm) (1.13.1)\n",
            "Requirement already satisfied: smart-open>=1.8.1 in /usr/local/lib/python3.10/dist-packages (from gensim<5.0.0,>=4.3.1->hazm) (7.0.4)\n",
            "Requirement already satisfied: click in /usr/local/lib/python3.10/dist-packages (from nltk<4.0.0,>=3.8.1->hazm) (8.1.7)\n",
            "Requirement already satisfied: joblib in /usr/local/lib/python3.10/dist-packages (from nltk<4.0.0,>=3.8.1->hazm) (1.4.2)\n",
            "Requirement already satisfied: regex>=2021.8.3 in /usr/local/lib/python3.10/dist-packages (from nltk<4.0.0,>=3.8.1->hazm) (2024.9.11)\n",
            "Requirement already satisfied: tqdm in /usr/local/lib/python3.10/dist-packages (from nltk<4.0.0,>=3.8.1->hazm) (4.66.5)\n",
            "Requirement already satisfied: threadpoolctl>=3.1.0 in /usr/local/lib/python3.10/dist-packages (from scikit-learn<2.0.0,>=1.2.2->hazm) (3.5.0)\n",
            "Requirement already satisfied: wrapt in /usr/local/lib/python3.10/dist-packages (from smart-open>=1.8.1->gensim<5.0.0,>=4.3.1->hazm) (1.16.0)\n"
          ]
        }
      ],
      "source": [
        "# hazm installation\n",
        "!pip install hazm\n",
        "# Docs: www.roshan-ai.ir/hazm"
      ]
    },
    {
      "cell_type": "markdown",
      "source": [
        "## Imports"
      ],
      "metadata": {
        "id": "bxag9T_xLxHv"
      }
    },
    {
      "cell_type": "code",
      "source": [
        "from hazm import *"
      ],
      "metadata": {
        "id": "O32R0QzpL0gA"
      },
      "execution_count": 12,
      "outputs": []
    },
    {
      "cell_type": "markdown",
      "source": [
        "## Process Data With Hazm"
      ],
      "metadata": {
        "id": "fcWkxQ19L1s0"
      }
    },
    {
      "cell_type": "code",
      "execution_count": 20,
      "metadata": {
        "id": "-jetSTbrxRWz"
      },
      "outputs": [],
      "source": [
        "# Clean and standardize the text\n",
        "def hazm_normalize(text):\n",
        "  # preprocesing => remove '\\n'\n",
        "  removeNewline = text.replace(\"\\r\\n\", \"\")\n",
        "\n",
        "  normalizer = Normalizer()\n",
        "  normalized = normalizer.normalize(removeNewline)\n",
        "\n",
        "  print(\"(HAZM): normalized body: \", normalized)\n",
        "  return normalized"
      ]
    },
    {
      "cell_type": "code",
      "execution_count": 14,
      "metadata": {
        "id": "Cy8o2magxso3"
      },
      "outputs": [],
      "source": [
        "# Splits the text into individual words or sentences\n",
        "def hazm_tokenize(text):\n",
        "  # to split text to words\n",
        "  tokenized_words = word_tokenize(text)\n",
        "  tokenized_text = sent_tokenize(text)\n",
        "\n",
        "  print(\"(HAZM): tokenized body: \", tokenized_words)\n",
        "  return tokenized_words, tokenized_text"
      ]
    },
    {
      "cell_type": "code",
      "execution_count": 15,
      "metadata": {
        "id": "5t2lEyMjaQTs"
      },
      "outputs": [],
      "source": [
        "# Reduce words to their root or stem form\n",
        "def hazm_stem(words):\n",
        "  stemmer = Stemmer()\n",
        "  stemmed = []\n",
        "  for word in words:\n",
        "    stemmed.append(stemmer.stem(word))\n",
        "\n",
        "  print(\"(HAZM): stemmer result: \", stemmed)\n",
        "  return stemmed"
      ]
    },
    {
      "cell_type": "code",
      "execution_count": 16,
      "metadata": {
        "id": "H9myMkWUwzrL"
      },
      "outputs": [],
      "source": [
        "# Take a news article as input and apply the steps to its body text\n",
        "def hazm_process_news(news):\n",
        "  news_body = news['NewsBody']\n",
        "  normalized_body = hazm_normalize(news_body)\n",
        "  tokenized_body = hazm_tokenize(normalized_body)\n",
        "  stemmed_body = hazm_stem(tokenized_body[0])"
      ]
    },
    {
      "cell_type": "markdown",
      "source": [
        "## Result"
      ],
      "metadata": {
        "id": "hqTzVOLfM8nK"
      }
    },
    {
      "cell_type": "code",
      "source": [
        "for i in range(counter):\n",
        "  print(f\"Text: {news[i]['NewsBody']}\\n\")\n",
        "\n",
        "  print(\"Hazm Proccess: \")\n",
        "  hazm_process_news(news[i])\n",
        "  print()"
      ],
      "metadata": {
        "colab": {
          "base_uri": "https://localhost:8080/"
        },
        "id": "n_GQZc1TNATS",
        "outputId": "405e5c58-a81e-4c96-d581-8bdbb48ad798"
      },
      "execution_count": 21,
      "outputs": [
        {
          "output_type": "stream",
          "name": "stdout",
          "text": [
            "Text: محمد نوری در گفت\r\n",
            "وگو\r\n",
            "با خبرنگار ورزشی خبرگزاری فارس در مورد پیروزی ۳ بر ۲ ذوب‌آهن مقابل الغرافه قطر گفت: نیمه اول الغرافه خوب بازی کرد اما نیمه مربیان را منصوریان برد. البته نباید فراموش کنیم که الغرافه خط دفاع ضعیفی دارد و در بازی‌های اخیرش ۱۳-۱۴ گل دریافت کرده بود.\r\n",
            "با این\r\n",
            "حال علیرضا منصوریان حریف را به خوبی آنالیز کرده بود و توانست یک بازگشت رویایی داشته باشد نیمه مربیان را ببرد.\r\n",
            "وی گفت: در نیمه دوم حدادی‌فر عالی کار کرد. تعویض حسینی هم جناح راست ذوب‌آهن را راه انداخت و بازیکنان خارجی ذوب‌آهن هم عالی بودند. به نظر من هافبک‌های ذوب‌آهن در نیمه دوم فوق\r\n",
            "العاده\r\n",
            "کار کردند.\r\n",
            "این پیشکسوت استقلال با اشاره به تیزهوشی مهاجمان ذوب‌آهن گفت: مدافعان الغرافه مرتکب اشتباه شدند و بازیکنان تیزهوش ذوب‌آهن از این فرصت نهایت استفاده را بردند البته ذوب‌آهن مستحق زدن گل‌های بیشتری هم بود.\r\n",
            "نوری در مورد دیدار یکشنبه آینده استقلال با ذوب‌آهن در لیگ برتر اظهار داشت: شرایط هر مسابقه با بازی دیگر متفاوت است بازی با الغرافه یک بازی حساس و حذفی بود اما ذوب‌آهن اکنون باید ریکاوری خوبی داشته باشد تا به آن بازی برسد استقلال هم قبل از آن مسابقه باید با پارس جنوبی امروز عصر بازی کند که سه امتیاز این مسابقه بسیار حساس است. در بازی استقلال و ذوب‌آهن جنگ اصلی بین هافبک‌ها است و هر تیمی که خط میانی‌اش خوب عمل کند برنده آن بازی خواهد شد.\r\n",
            "انتهای\r\n",
            "پیام/ک\n",
            "\n",
            "Hazm Proccess: \n",
            "(HAZM): normalized body:  محمد نوری در گفتوگوبا خبرنگار ورزشی خبرگزاری فارس در مورد پیروزی ۳ بر ۲ ذوب‌آهن مقابل الغرافه قطر گفت: نیمه اول الغرافه خوب بازی کرد اما نیمه مربیان را منصوریان برد. البته نباید فراموش کنیم که الغرافه خط دفاع ضعیفی دارد و در بازی‌های اخیرش ۱۳ - ۱۴ گل دریافت کرده بود. با اینحال علیرضا منصوریان حریف را به خوبی آنالیز کرده بود و توانست یک بازگشت رویایی داشته باشد نیمه مربیان را ببرد. وی گفت: در نیمه دوم حدادی‌فر عالی کار کرد. تعویض حسینی هم جناح راست ذوب‌آهن را راه انداخت و بازیکنان خارجی ذوب‌آهن هم عالی بودند. به نظر من هافبک‌های ذوب‌آهن در نیمه دوم فوقالعادهکار کردند. این پیشکسوت استقلال با اشاره به تیزهوشی مهاجمان ذوب‌آهن گفت: مدافعان الغرافه مرتکب اشتباه شدند و بازیکنان تیزهوش ذوب‌آهن از این فرصت نهایت استفاده را بردند البته ذوب‌آهن مستحق زدن گل‌های بیشتری هم بود. نوری در مورد دیدار یکشنبه آینده استقلال با ذوب‌آهن در لیگ برتر اظهار داشت: شرایط هر مسابقه با بازی دیگر متفاوت است بازی با الغرافه یک بازی حساس و حذفی بود اما ذوب‌آهن اکنون باید ریکاوری خوبی داشته باشد تا به آن بازی برسد استقلال هم قبل از آن مسابقه باید با پارس جنوبی امروز عصر بازی کند که سه امتیاز این مسابقه بسیار حساس است. در بازی استقلال و ذوب‌آهن جنگ اصلی بین هافبک‌ها است و هر تیمی که خط میانی‌اش خوب عمل کند برنده آن بازی خواهد شد. انتهایپیام / ک\n",
            "(HAZM): tokenized body:  ['محمد', 'نوری', 'در', 'گفتوگوبا', 'خبرنگار', 'ورزشی', 'خبرگزاری', 'فارس', 'در', 'مورد', 'پیروزی', '۳', 'بر', '۲', 'ذوب\\u200cآهن', 'مقابل', 'الغرافه', 'قطر', 'گفت', ':', 'نیمه', 'اول', 'الغرافه', 'خوب', 'بازی', 'کرد', 'اما', 'نیمه', 'مربیان', 'را', 'منصوریان', 'برد', '.', 'البته', 'نباید', 'فراموش', 'کنیم', 'که', 'الغرافه', 'خط', 'دفاع', 'ضعیفی', 'دارد', 'و', 'در', 'بازی\\u200cهای', 'اخیرش', '۱۳', '-', '۱۴', 'گل', 'دریافت', 'کرده_بود', '.', 'با', 'اینحال', 'علیرضا', 'منصوریان', 'حریف', 'را', 'به', 'خوبی', 'آنالیز', 'کرده_بود', 'و', 'توانست', 'یک', 'بازگشت', 'رویایی', 'داشته_باشد', 'نیمه', 'مربیان', 'را', 'ببرد', '.', 'وی', 'گفت', ':', 'در', 'نیمه', 'دوم', 'حدادی\\u200cفر', 'عالی', 'کار', 'کرد', '.', 'تعویض', 'حسینی', 'هم', 'جناح', 'راست', 'ذوب\\u200cآهن', 'را', 'راه', 'انداخت', 'و', 'بازیکنان', 'خارجی', 'ذوب\\u200cآهن', 'هم', 'عالی', 'بودند', '.', 'به', 'نظر', 'من', 'هافبک\\u200cهای', 'ذوب\\u200cآهن', 'در', 'نیمه', 'دوم', 'فوقالعادهکار', 'کردند', '.', 'این', 'پیشکسوت', 'استقلال', 'با', 'اشاره', 'به', 'تیزهوشی', 'مهاجمان', 'ذوب\\u200cآهن', 'گفت', ':', 'مدافعان', 'الغرافه', 'مرتکب', 'اشتباه', 'شدند', 'و', 'بازیکنان', 'تیزهوش', 'ذوب\\u200cآهن', 'از', 'این', 'فرصت', 'نهایت', 'استفاده', 'را', 'بردند', 'البته', 'ذوب\\u200cآهن', 'مستحق', 'زدن', 'گل\\u200cهای', 'بیشتری', 'هم', 'بود', '.', 'نوری', 'در', 'مورد', 'دیدار', 'یکشنبه', 'آینده', 'استقلال', 'با', 'ذوب\\u200cآهن', 'در', 'لیگ', 'برتر', 'اظهار', 'داشت', ':', 'شرایط', 'هر', 'مسابقه', 'با', 'بازی', 'دیگر', 'متفاوت', 'است', 'بازی', 'با', 'الغرافه', 'یک', 'بازی', 'حساس', 'و', 'حذفی', 'بود', 'اما', 'ذوب\\u200cآهن', 'اکنون', 'باید', 'ریکاوری', 'خوبی', 'داشته_باشد', 'تا', 'به', 'آن', 'بازی', 'برسد', 'استقلال', 'هم', 'قبل', 'از', 'آن', 'مسابقه', 'باید', 'با', 'پارس', 'جنوبی', 'امروز', 'عصر', 'بازی', 'کند', 'که', 'سه', 'امتیاز', 'این', 'مسابقه', 'بسیار', 'حساس', 'است', '.', 'در', 'بازی', 'استقلال', 'و', 'ذوب\\u200cآهن', 'جنگ', 'اصلی', 'بین', 'هافبک\\u200cها', 'است', 'و', 'هر', 'تیمی', 'که', 'خط', 'میانی\\u200cاش', 'خوب', 'عمل', 'کند', 'برنده', 'آن', 'بازی', 'خواهد_شد', '.', 'انتهایپیام', '/', 'ک']\n",
            "(HAZM): stemmer result:  ['محمد', 'نور', 'در', 'گفتوگوبا', 'خبرنگار', 'ورزش', 'خبرگزار', 'فارس', 'در', 'مورد', 'پیروز', '۳', 'بر', '۲', 'ذوب\\u200cآهن', 'مقابل', 'الغرافه', 'قطر', 'گف', ':', 'نیمه', 'اول', 'الغرافه', 'خوب', 'باز', 'کرد', 'اما', 'نیمه', 'مرب', 'را', 'منصور', 'برد', '.', 'البته', 'نباید', 'فرامو', 'کن', 'که', 'الغرافه', 'خط', 'دفاع', 'ضعیف', 'دارد', 'و', 'در', 'بازی', 'اخیر', '۱۳', '-', '۱۴', 'گل', 'دریاف', 'کرده_بود', '.', 'با', 'اینحال', 'علیرضا', 'منصور', 'حریف', 'را', 'به', 'خوب', 'آنالیز', 'کرده_بود', 'و', 'توانس', 'یک', 'بازگ', 'رویا', 'داشته_باشد', 'نیمه', 'مرب', 'را', 'ببرد', '.', 'و', 'گف', ':', 'در', 'نیمه', 'دو', 'حدادی\\u200cفر', 'عال', 'کار', 'کرد', '.', 'تعویض', 'حسین', 'ه', 'جناح', 'راس', 'ذوب\\u200cآهن', 'را', 'راه', 'انداخ', 'و', 'بازیکن', 'خارج', 'ذوب\\u200cآهن', 'ه', 'عال', 'بودند', '.', 'به', 'نظر', 'من', 'هافبک', 'ذوب\\u200cآهن', 'در', 'نیمه', 'دو', 'فوقالعادهکار', 'کردند', '.', 'این', 'پیشکسو', 'استقلال', 'با', 'اشاره', 'به', 'تیزهوش', 'مهاج', 'ذوب\\u200cآهن', 'گف', ':', 'مدافع', 'الغرافه', 'مرتکب', 'اشتباه', 'شدند', 'و', 'بازیکن', 'تیزهو', 'ذوب\\u200cآهن', 'از', 'این', 'فرص', 'ن', 'استفاده', 'را', 'بردند', 'البته', 'ذوب\\u200cآهن', 'مستحق', 'زدن', 'گل', 'بیشتر', 'ه', 'بود', '.', 'نور', 'در', 'مورد', 'دیدار', 'یکشنبه', 'آینده', 'استقلال', 'با', 'ذوب\\u200cآهن', 'در', 'لیگ', 'بر', 'اظهار', 'دا', ':', 'شرایط', 'هر', 'مسابقه', 'با', 'باز', 'دیگر', 'متفاو', 'اس', 'باز', 'با', 'الغرافه', 'یک', 'باز', 'حساس', 'و', 'حذف', 'بود', 'اما', 'ذوب\\u200cآهن', 'اکنون', 'باید', 'ریکاور', 'خوب', 'داشته_باشد', 'تا', 'به', 'آن', 'باز', 'برسد', 'استقلال', 'ه', 'قبل', 'از', 'آن', 'مسابقه', 'باید', 'با', 'پارس', 'جنوب', 'امروز', 'عصر', 'باز', 'کند', 'که', 'سه', 'امتیاز', 'این', 'مسابقه', 'بسیار', 'حساس', 'اس', '.', 'در', 'باز', 'استقلال', 'و', 'ذوب\\u200cآهن', 'جنگ', 'اصل', 'بین', 'هافبک', 'اس', 'و', 'هر', 'تیم', 'که', 'خط', 'میانی', 'خوب', 'عمل', 'کند', 'برنده', 'آن', 'باز', 'خواهد_شد', '.', 'انتهایپیا', '/', 'ک']\n",
            "\n"
          ]
        }
      ]
    }
  ]
}