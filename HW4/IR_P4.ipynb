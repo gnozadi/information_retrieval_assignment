{
  "nbformat": 4,
  "nbformat_minor": 0,
  "metadata": {
    "colab": {
      "provenance": [],
      "collapsed_sections": [
        "vuaCFMBqXJgo",
        "eXco0-14XThC",
        "2tp4XkCn1M-r",
        "Pzp8el3VXXwO",
        "PiA1BdYdApC_",
        "wIsgV0hClaty",
        "oVOWv8VAupDH",
        "6ZVzrusajR99"
      ]
    },
    "kernelspec": {
      "name": "python3",
      "display_name": "Python 3"
    },
    "language_info": {
      "name": "python"
    }
  },
  "cells": [
    {
      "cell_type": "markdown",
      "metadata": {
        "id": "vuaCFMBqXJgo"
      },
      "source": [
        "# Download and Extract Data"
      ]
    },
    {
      "cell_type": "code",
      "execution_count": null,
      "metadata": {
        "id": "ddpftRxHdTvl",
        "colab": {
          "base_uri": "https://localhost:8080/"
        },
        "outputId": "af6adac5-4f62-4361-a0b1-5697da6839ea"
      },
      "outputs": [
        {
          "output_type": "stream",
          "name": "stdout",
          "text": [
            "Cloning into 'Useful-Corpora-for-Text-Mining-in-Persian-Language'...\n",
            "remote: Enumerating objects: 18, done.\u001b[K\n",
            "remote: Total 18 (delta 0), reused 0 (delta 0), pack-reused 18\u001b[K\n",
            "Unpacking objects: 100% (18/18), 478.78 MiB | 10.60 MiB/s, done.\n",
            "Updating files: 100% (8/8), done.\n"
          ]
        }
      ],
      "source": [
        " !git clone \"https://github.com/Text-Mining/Useful-Corpora-for-Text-Mining-in-Persian-Language\""
      ]
    },
    {
      "cell_type": "code",
      "execution_count": null,
      "metadata": {
        "id": "9SIb8DCGdvws",
        "colab": {
          "base_uri": "https://localhost:8080/"
        },
        "outputId": "3af64247-8133-4792-f8bd-26413639f568"
      },
      "outputs": [
        {
          "output_type": "stream",
          "name": "stdout",
          "text": [
            "Looking in indexes: https://pypi.org/simple, https://us-python.pkg.dev/colab-wheels/public/simple/\n",
            "Collecting unrar\n",
            "  Downloading unrar-0.4-py3-none-any.whl (25 kB)\n",
            "Installing collected packages: unrar\n",
            "Successfully installed unrar-0.4\n",
            "\n",
            "UNRAR 5.61 beta 1 freeware      Copyright (c) 1993-2018 Alexander Roshal\n",
            "\n",
            "\n",
            "Extracting from /content/Useful-Corpora-for-Text-Mining-in-Persian-Language/News/FarsNews 97/farsnews.part01.rar\n",
            "\n",
            "Extracting  farsnews.json                                                \b\b\b\b  0%\b\b\b\b  1%\b\b\b\b  2%\b\b\b\b  3%\b\b\b\b  4%\b\b\b\b  5%\b\b\b\b  6%\b\b\b\b  7%\b\b\b\b  8%\b\b\b\b  9%\b\b\b\b 10%\b\b\b\b 11%\b\b\b\b 12%\b\b\b\b 13%\b\b\b\b 14%\b\b\b\b 15%\b\b\b\b 16%\b\b\b\b 17%\b\b\b\b 18%\b\b\b\b 19%\b\b\b\b 20%\b\b\b\b 21%\b\b\b\b 22%\b\b\b\b 23%\b\b\b\b 24%\b\b\b\b 25%\b\b\b\b 26%\b\b\b\b 27%\b\b\b\b 28%\b\b\b\b 29%\b\b\b\b 30%\b\b\b\b 31%\b\b\b\b 32%\b\b\b\b 33%\b\b\b\b 34%\b\b\b\b 35%\b\b\b\b 36%\b\b\b\b 37%\b\b\b\b 38%\n",
            "\n",
            "Extracting from /content/Useful-Corpora-for-Text-Mining-in-Persian-Language/News/FarsNews 97/farsnews.part02.rar\n",
            "\n",
            "...         farsnews.json                                                \b\b\b\b 39%\b\b\b\b 40%\b\b\b\b 41%\b\b\b\b 42%\b\b\b\b 43%\b\b\b\b 44%\b\b\b\b 45%\b\b\b\b 46%\b\b\b\b 47%\b\b\b\b 48%\b\b\b\b 49%\b\b\b\b 50%\b\b\b\b 51%\b\b\b\b 52%\b\b\b\b 53%\b\b\b\b 54%\b\b\b\b 55%\b\b\b\b 56%\b\b\b\b 57%\b\b\b\b 58%\b\b\b\b 59%\b\b\b\b 60%\b\b\b\b 61%\b\b\b\b 62%\b\b\b\b 63%\b\b\b\b 64%\b\b\b\b 65%\b\b\b\b 66%\b\b\b\b 67%\b\b\b\b 68%\b\b\b\b 69%\b\b\b\b 70%\b\b\b\b 71%\b\b\b\b 72%\b\b\b\b 73%\b\b\b\b 74%\b\b\b\b 75%\b\b\b\b 76%\b\b\b\b 77%\n",
            "\n",
            "Extracting from /content/Useful-Corpora-for-Text-Mining-in-Persian-Language/News/FarsNews 97/farsnews.part03.rar\n",
            "\n",
            "...         farsnews.json                                                \b\b\b\b 78%\b\b\b\b 79%\b\b\b\b 80%\b\b\b\b 81%\b\b\b\b 82%\b\b\b\b 83%\b\b\b\b 84%\b\b\b\b 85%\b\b\b\b 86%\b\b\b\b 87%\b\b\b\b 88%\b\b\b\b 89%\b\b\b\b 90%\b\b\b\b 91%\b\b\b\b 92%\b\b\b\b 93%\b\b\b\b 94%\b\b\b\b 95%\b\b\b\b 96%\b\b\b\b 97%\b\b\b\b 98%\b\b\b\b 99%\b\b\b\b\b  OK \n",
            "All OK\n"
          ]
        }
      ],
      "source": [
        "!pip install unrar\n",
        "!unrar x '/content/Useful-Corpora-for-Text-Mining-in-Persian-Language/News/FarsNews 97/farsnews.part01.rar'"
      ]
    },
    {
      "cell_type": "markdown",
      "metadata": {
        "id": "eXco0-14XThC"
      },
      "source": [
        "#Read Data"
      ]
    },
    {
      "cell_type": "code",
      "execution_count": null,
      "metadata": {
        "id": "izc5QQuBXTAR"
      },
      "outputs": [],
      "source": [
        "import json\n",
        "counter = 0\n",
        "N = 1000\n",
        "news=[] # { CategoryPanel[], NewsDate, NewsTitle, NewsSummary, NewsBody, GetComments: { CommentsJsonArray[] } }\n",
        "\n",
        "# Read just one line of data for now\n",
        "for line in open('farsnews.json','r', encoding='utf-8-sig'):\n",
        "  news.append(json.loads(line))\n",
        "  counter+=1\n",
        "  if(counter == N):\n",
        "    break"
      ]
    },
    {
      "cell_type": "markdown",
      "metadata": {
        "id": "WzrGixDW2ur0"
      },
      "source": [
        "#Clean Data"
      ]
    },
    {
      "cell_type": "code",
      "source": [
        "for i in range(len(news)):\n",
        "  if i>len(news):\n",
        "    break\n",
        "  if i<=len(news) and list(news[i].keys()).count('NewsBody')==0:\n",
        "    del news[i]\n",
        "  if str(type(news[i]['NewsBody']))==\"<class 'list'>\":\n",
        "    news[i]['NewsBody'] =news[i]['NewsBody'][0]"
      ],
      "metadata": {
        "id": "AmZ63g7qZYSu"
      },
      "execution_count": null,
      "outputs": []
    },
    {
      "cell_type": "markdown",
      "metadata": {
        "id": "2tp4XkCn1M-r"
      },
      "source": [
        "# Modules Installation"
      ]
    },
    {
      "cell_type": "code",
      "execution_count": null,
      "metadata": {
        "id": "YN3KlMv81Q5j",
        "colab": {
          "base_uri": "https://localhost:8080/"
        },
        "outputId": "1a02612d-a19b-4098-eb9e-f4bf52372dba"
      },
      "outputs": [
        {
          "output_type": "stream",
          "name": "stdout",
          "text": [
            "Looking in indexes: https://pypi.org/simple, https://us-python.pkg.dev/colab-wheels/public/simple/\n",
            "Collecting hazm\n",
            "  Downloading hazm-0.7.0-py3-none-any.whl (316 kB)\n",
            "\u001b[2K     \u001b[90m━━━━━━━━━━━━━━━━━━━━━━━━━━━━━━━━━━━━━━━\u001b[0m \u001b[32m316.7/316.7 kB\u001b[0m \u001b[31m1.1 MB/s\u001b[0m eta \u001b[36m0:00:00\u001b[0m\n",
            "\u001b[?25hCollecting nltk==3.3\n",
            "  Downloading nltk-3.3.0.zip (1.4 MB)\n",
            "\u001b[2K     \u001b[90m━━━━━━━━━━━━━━━━━━━━━━━━━━━━━━━━━━━━━━━━\u001b[0m \u001b[32m1.4/1.4 MB\u001b[0m \u001b[31m27.5 MB/s\u001b[0m eta \u001b[36m0:00:00\u001b[0m\n",
            "\u001b[?25h  Preparing metadata (setup.py) ... \u001b[?25l\u001b[?25hdone\n",
            "Collecting libwapiti>=0.2.1\n",
            "  Downloading libwapiti-0.2.1.tar.gz (233 kB)\n",
            "\u001b[2K     \u001b[90m━━━━━━━━━━━━━━━━━━━━━━━━━━━━━━━━━━━━━━\u001b[0m \u001b[32m233.6/233.6 kB\u001b[0m \u001b[31m19.4 MB/s\u001b[0m eta \u001b[36m0:00:00\u001b[0m\n",
            "\u001b[?25h  Preparing metadata (setup.py) ... \u001b[?25l\u001b[?25hdone\n",
            "Requirement already satisfied: six in /usr/local/lib/python3.9/dist-packages (from nltk==3.3->hazm) (1.16.0)\n",
            "Building wheels for collected packages: nltk, libwapiti\n",
            "  Building wheel for nltk (setup.py) ... \u001b[?25l\u001b[?25hdone\n",
            "  Created wheel for nltk: filename=nltk-3.3-py3-none-any.whl size=1394489 sha256=0a5e25c04d724860cb68c5a3f4b67239580dfd78f281aa83d61a4069a4aaf5b7\n",
            "  Stored in directory: /root/.cache/pip/wheels/ac/62/f6/88933dadcd64a1614894614aa68cf57c4b8e5256acb650b1f1\n",
            "  Building wheel for libwapiti (setup.py) ... \u001b[?25l\u001b[?25hdone\n",
            "  Created wheel for libwapiti: filename=libwapiti-0.2.1-cp39-cp39-linux_x86_64.whl size=180368 sha256=e40a146ca78db26820c5924b280d05ce2f5b251f09f75503c21d10682b4e5341\n",
            "  Stored in directory: /root/.cache/pip/wheels/8e/ff/82/9326b96f96f47472e02c453697b225813e4650c0ed4df2cd49\n",
            "Successfully built nltk libwapiti\n",
            "Installing collected packages: nltk, libwapiti, hazm\n",
            "  Attempting uninstall: nltk\n",
            "    Found existing installation: nltk 3.8.1\n",
            "    Uninstalling nltk-3.8.1:\n",
            "      Successfully uninstalled nltk-3.8.1\n",
            "Successfully installed hazm-0.7.0 libwapiti-0.2.1 nltk-3.3\n"
          ]
        }
      ],
      "source": [
        "# hazm installation\n",
        "!pip install hazm\n",
        "# Docs: www.roshan-ai.ir/hazm"
      ]
    },
    {
      "cell_type": "markdown",
      "metadata": {
        "id": "Pzp8el3VXXwO"
      },
      "source": [
        "# Process Data With Hazm"
      ]
    },
    {
      "cell_type": "code",
      "execution_count": null,
      "metadata": {
        "id": "E5Kl6cP8hsI2"
      },
      "outputs": [],
      "source": [
        "from hazm import *"
      ]
    },
    {
      "cell_type": "code",
      "execution_count": null,
      "metadata": {
        "id": "-jetSTbrxRWz"
      },
      "outputs": [],
      "source": [
        "def hazm_normalize(text):\n",
        "  # preprocesing => remove '\\n'\n",
        "  removeNewline = text.replace(\"\\r\\n\", \"\")\n",
        "\n",
        "  normalizer = Normalizer()\n",
        "  normalized = normalizer.normalize(removeNewline)\n",
        "  normalized = normalizer.character_refinement(normalized)\n",
        "  normalized = normalizer.punctuation_spacing(normalized)\n",
        "\n",
        "  # print(\"(HAZM): normalized body: \", normalized)\n",
        "  return normalized"
      ]
    },
    {
      "cell_type": "code",
      "execution_count": null,
      "metadata": {
        "id": "Cy8o2magxso3"
      },
      "outputs": [],
      "source": [
        "def hazm_tokenize(text):\n",
        "  # to split text to words\n",
        "  tokenized_words = word_tokenize(text)\n",
        "  tokenized_text = sent_tokenize(text)\n",
        "\n",
        "  # print(\"(HAZM): tokenized body: \", tokenized_words)\n",
        "  return tokenized_words, tokenized_text"
      ]
    },
    {
      "cell_type": "code",
      "execution_count": null,
      "metadata": {
        "id": "5t2lEyMjaQTs"
      },
      "outputs": [],
      "source": [
        "def hazm_stem(words):\n",
        "  stemmer = Stemmer()\n",
        "  stemmed = []\n",
        "  for word in words:\n",
        "    stemmed.append(stemmer.stem(word))\n",
        "\n",
        "  # print(\"(HAZM): stemmer result: \", stemmed)\n",
        "  return stemmed"
      ]
    },
    {
      "cell_type": "code",
      "execution_count": null,
      "metadata": {
        "id": "H9myMkWUwzrL"
      },
      "outputs": [],
      "source": [
        "def hazm_process_news(news_body):\n",
        "  # news_body = news['NewsBody']\n",
        "  normalized_body = hazm_normalize(news_body)\n",
        "  tokenized_body = hazm_tokenize(normalized_body)\n",
        "  stemmed_body = hazm_stem(tokenized_body[0])\n",
        "\n",
        "  return stemmed_body\n"
      ]
    },
    {
      "cell_type": "markdown",
      "source": [
        "#Making Posting-List"
      ],
      "metadata": {
        "id": "Rp7cA8Bsa_Sl"
      }
    },
    {
      "cell_type": "code",
      "execution_count": null,
      "metadata": {
        "id": "-AI3slivZdgz",
        "colab": {
          "base_uri": "https://localhost:8080/"
        },
        "outputId": "b00f7288-fb0e-452b-f787-eeb83614189c"
      },
      "outputs": [
        {
          "output_type": "stream",
          "name": "stdout",
          "text": [
            "17352\n"
          ]
        }
      ],
      "source": [
        "data = {}\n",
        "for i in range(len(news)):\n",
        "  docId = i + 1\n",
        "  tokens = hazm_process_news(news[i]['NewsBody'])\n",
        "  tokens_freq = {}\n",
        "\n",
        "  for token in tokens:\n",
        "    if len(token) >= 3:\n",
        "      if token in tokens_freq:\n",
        "        tokens_freq[token] += 1\n",
        "      else:\n",
        "        tokens_freq[token] = 1\n",
        "\n",
        "  for token in tokens_freq:\n",
        "    if token in data:\n",
        "      data[token]['freq'] += tokens_freq[token]\n",
        "      data[token]['docs'].append({\n",
        "          'id': docId,\n",
        "          'freq': tokens_freq[token]\n",
        "          })\n",
        "    else:\n",
        "      data[token] = {\n",
        "          'freq': tokens_freq[token],\n",
        "          'docs': [\n",
        "              {\n",
        "                  'id': docId,\n",
        "                  'freq': tokens_freq[token]\n",
        "               }\n",
        "              ]\n",
        "            }\n",
        "\n",
        "print(len(data))"
      ]
    },
    {
      "cell_type": "markdown",
      "source": [
        "#Mapper Function\n",
        "returns a list of tokens with their documents' IDs"
      ],
      "metadata": {
        "id": "JOFdyQnKApC-"
      }
    },
    {
      "cell_type": "code",
      "source": [
        "def mapper_function(token_index):\n",
        "  token = data_keys[token_index] # محمد\n",
        "  token_data = data_vals[token_index] # {freq: F, docs: [{ id: ID, freq: DOC_FREQ }, ...]}\n",
        "  docs_list = [docs for docs in token_data['docs']]\n",
        "  values[token] = docs_list"
      ],
      "metadata": {
        "id": "15dSbegfApC_"
      },
      "execution_count": null,
      "outputs": []
    },
    {
      "cell_type": "markdown",
      "source": [
        "#List of all tokens with their docID"
      ],
      "metadata": {
        "id": "PiA1BdYdApC_"
      }
    },
    {
      "cell_type": "code",
      "source": [
        "data_keys = [*data]\n",
        "data_vals = [*data.values()]\n",
        "\n",
        "\n",
        "values = {}\n",
        "# {token : docs[] }\n",
        "\n",
        "for index, _ in enumerate(data_keys):\n",
        "  mapper_function(index)\n",
        "\n",
        "print(values)"
      ],
      "metadata": {
        "id": "3Cb22AwhApDA",
        "colab": {
          "base_uri": "https://localhost:8080/"
        },
        "outputId": "d7dfefb6-96c6-47b3-c327-6492d1ec087f"
      },
      "execution_count": null,
      "outputs": [
        {
          "output_type": "stream",
          "name": "stderr",
          "text": [
            "IOPub data rate exceeded.\n",
            "The notebook server will temporarily stop sending output\n",
            "to the client in order to avoid crashing it.\n",
            "To change this limit, set the config variable\n",
            "`--NotebookApp.iopub_data_rate_limit`.\n",
            "\n",
            "Current values:\n",
            "NotebookApp.iopub_data_rate_limit=1000000.0 (bytes/sec)\n",
            "NotebookApp.rate_limit_window=3.0 (secs)\n",
            "\n"
          ]
        }
      ]
    },
    {
      "cell_type": "markdown",
      "source": [
        "#User Input"
      ],
      "metadata": {
        "id": "wIsgV0hClaty"
      }
    },
    {
      "cell_type": "code",
      "source": [
        "query = input()\n",
        "terms = query.split(\".\")\n",
        "terms.sort(key=lambda x:x.startswith(\"!\"))\n",
        "docs = []\n",
        "for term in terms:\n",
        "  if term not in values:\n",
        "    continue\n",
        "  docIds = [id for id in values[term]['id']]\n",
        "  if term.startsWith(\"!\"):\n",
        "    docs = [id for id in [*docs, docIds] if id in docs and id not in docIds]\n",
        "  else:\n",
        "    docs = [id for id in [*docs, *docIds] if id in docs and id in docIds]"
      ],
      "metadata": {
        "id": "ovEIPsFOlhhV"
      },
      "execution_count": null,
      "outputs": []
    },
    {
      "cell_type": "markdown",
      "source": [
        "#Creating Model with Datafram"
      ],
      "metadata": {
        "id": "79mM_ZhEbtoz"
      }
    },
    {
      "cell_type": "code",
      "source": [
        "import pandas as pd\n",
        "import numpy as np\n",
        "import math"
      ],
      "metadata": {
        "id": "OJ8xXObhXRNH"
      },
      "execution_count": null,
      "outputs": []
    },
    {
      "cell_type": "code",
      "source": [
        "col = np.arange(len(news)+1)\n",
        "df = pd.DataFrame(0,index=col, columns=data_keys)\n",
        "for token in values:\n",
        "  for d in values[token]:\n",
        "    df[token][d['id'] - 1] = d['freq']\n",
        "df"
      ],
      "metadata": {
        "id": "J2YGF5ZCX0n4",
        "colab": {
          "base_uri": "https://localhost:8080/",
          "height": 423
        },
        "outputId": "87aa7f91-8eed-470e-e794-8bf00fd9b11e"
      },
      "execution_count": null,
      "outputs": [
        {
          "output_type": "execute_result",
          "data": {
            "text/plain": [
              "     محمد  نور  گفتوگوبا  خبرنگار  ورزش  خبرگزار  فارس  مورد  پیروز  ذوب‌آهن  \\\n",
              "0       1    2         1        1     1        1     1     2      1       10   \n",
              "1       0    0         0        0     0        1     1     1      0        0   \n",
              "2       1    0         0        0     0        1     7     1      0        0   \n",
              "3       0    0         0        1     0        0     1     0      0        0   \n",
              "4       0    0         0        1     0        1     1     0      0        0   \n",
              "..    ...  ...       ...      ...   ...      ...   ...   ...    ...      ...   \n",
              "994     0    0         0        1     0        0     1     0      0        0   \n",
              "995     0    0         0        1     0        1     1     0      0        0   \n",
              "996     0    0         0        1     1        1     1     0      0        0   \n",
              "997     0    0         0        0     0        1     1     3      0        0   \n",
              "998     0    0         0        0     0        0     0     0      0        0   \n",
              "\n",
              "     ...  هنرپیشه  نتوانسته_بود  چندده‌میلیاردی  ۱۲:۳۰  سعادتمند  میرشاد  \\\n",
              "0    ...        0             0               0      0         0       0   \n",
              "1    ...        0             0               0      0         0       0   \n",
              "2    ...        0             0               0      0         0       0   \n",
              "3    ...        0             0               0      0         0       0   \n",
              "4    ...        0             0               0      0         0       0   \n",
              "..   ...      ...           ...             ...    ...       ...     ...   \n",
              "994  ...        0             0               0      0         0       0   \n",
              "995  ...        1             1               1      1         0       0   \n",
              "996  ...        0             0               0      0         1       1   \n",
              "997  ...        0             0               0      0         0       0   \n",
              "998  ...        0             0               0      0         0       0   \n",
              "\n",
              "     پندار  خمارلو  موکد  راهرو  \n",
              "0        0       0     0      0  \n",
              "1        0       0     0      0  \n",
              "2        0       0     0      0  \n",
              "3        0       0     0      0  \n",
              "4        0       0     0      0  \n",
              "..     ...     ...   ...    ...  \n",
              "994      0       0     0      0  \n",
              "995      0       0     0      0  \n",
              "996      0       0     0      0  \n",
              "997      1       1     1      1  \n",
              "998      0       0     0      0  \n",
              "\n",
              "[999 rows x 17352 columns]"
            ],
            "text/html": [
              "\n",
              "  <div id=\"df-3afdfb21-0a96-4e94-a2db-cb1d1e642e88\">\n",
              "    <div class=\"colab-df-container\">\n",
              "      <div>\n",
              "<style scoped>\n",
              "    .dataframe tbody tr th:only-of-type {\n",
              "        vertical-align: middle;\n",
              "    }\n",
              "\n",
              "    .dataframe tbody tr th {\n",
              "        vertical-align: top;\n",
              "    }\n",
              "\n",
              "    .dataframe thead th {\n",
              "        text-align: right;\n",
              "    }\n",
              "</style>\n",
              "<table border=\"1\" class=\"dataframe\">\n",
              "  <thead>\n",
              "    <tr style=\"text-align: right;\">\n",
              "      <th></th>\n",
              "      <th>محمد</th>\n",
              "      <th>نور</th>\n",
              "      <th>گفتوگوبا</th>\n",
              "      <th>خبرنگار</th>\n",
              "      <th>ورزش</th>\n",
              "      <th>خبرگزار</th>\n",
              "      <th>فارس</th>\n",
              "      <th>مورد</th>\n",
              "      <th>پیروز</th>\n",
              "      <th>ذوب‌آهن</th>\n",
              "      <th>...</th>\n",
              "      <th>هنرپیشه</th>\n",
              "      <th>نتوانسته_بود</th>\n",
              "      <th>چندده‌میلیاردی</th>\n",
              "      <th>۱۲:۳۰</th>\n",
              "      <th>سعادتمند</th>\n",
              "      <th>میرشاد</th>\n",
              "      <th>پندار</th>\n",
              "      <th>خمارلو</th>\n",
              "      <th>موکد</th>\n",
              "      <th>راهرو</th>\n",
              "    </tr>\n",
              "  </thead>\n",
              "  <tbody>\n",
              "    <tr>\n",
              "      <th>0</th>\n",
              "      <td>1</td>\n",
              "      <td>2</td>\n",
              "      <td>1</td>\n",
              "      <td>1</td>\n",
              "      <td>1</td>\n",
              "      <td>1</td>\n",
              "      <td>1</td>\n",
              "      <td>2</td>\n",
              "      <td>1</td>\n",
              "      <td>10</td>\n",
              "      <td>...</td>\n",
              "      <td>0</td>\n",
              "      <td>0</td>\n",
              "      <td>0</td>\n",
              "      <td>0</td>\n",
              "      <td>0</td>\n",
              "      <td>0</td>\n",
              "      <td>0</td>\n",
              "      <td>0</td>\n",
              "      <td>0</td>\n",
              "      <td>0</td>\n",
              "    </tr>\n",
              "    <tr>\n",
              "      <th>1</th>\n",
              "      <td>0</td>\n",
              "      <td>0</td>\n",
              "      <td>0</td>\n",
              "      <td>0</td>\n",
              "      <td>0</td>\n",
              "      <td>1</td>\n",
              "      <td>1</td>\n",
              "      <td>1</td>\n",
              "      <td>0</td>\n",
              "      <td>0</td>\n",
              "      <td>...</td>\n",
              "      <td>0</td>\n",
              "      <td>0</td>\n",
              "      <td>0</td>\n",
              "      <td>0</td>\n",
              "      <td>0</td>\n",
              "      <td>0</td>\n",
              "      <td>0</td>\n",
              "      <td>0</td>\n",
              "      <td>0</td>\n",
              "      <td>0</td>\n",
              "    </tr>\n",
              "    <tr>\n",
              "      <th>2</th>\n",
              "      <td>1</td>\n",
              "      <td>0</td>\n",
              "      <td>0</td>\n",
              "      <td>0</td>\n",
              "      <td>0</td>\n",
              "      <td>1</td>\n",
              "      <td>7</td>\n",
              "      <td>1</td>\n",
              "      <td>0</td>\n",
              "      <td>0</td>\n",
              "      <td>...</td>\n",
              "      <td>0</td>\n",
              "      <td>0</td>\n",
              "      <td>0</td>\n",
              "      <td>0</td>\n",
              "      <td>0</td>\n",
              "      <td>0</td>\n",
              "      <td>0</td>\n",
              "      <td>0</td>\n",
              "      <td>0</td>\n",
              "      <td>0</td>\n",
              "    </tr>\n",
              "    <tr>\n",
              "      <th>3</th>\n",
              "      <td>0</td>\n",
              "      <td>0</td>\n",
              "      <td>0</td>\n",
              "      <td>1</td>\n",
              "      <td>0</td>\n",
              "      <td>0</td>\n",
              "      <td>1</td>\n",
              "      <td>0</td>\n",
              "      <td>0</td>\n",
              "      <td>0</td>\n",
              "      <td>...</td>\n",
              "      <td>0</td>\n",
              "      <td>0</td>\n",
              "      <td>0</td>\n",
              "      <td>0</td>\n",
              "      <td>0</td>\n",
              "      <td>0</td>\n",
              "      <td>0</td>\n",
              "      <td>0</td>\n",
              "      <td>0</td>\n",
              "      <td>0</td>\n",
              "    </tr>\n",
              "    <tr>\n",
              "      <th>4</th>\n",
              "      <td>0</td>\n",
              "      <td>0</td>\n",
              "      <td>0</td>\n",
              "      <td>1</td>\n",
              "      <td>0</td>\n",
              "      <td>1</td>\n",
              "      <td>1</td>\n",
              "      <td>0</td>\n",
              "      <td>0</td>\n",
              "      <td>0</td>\n",
              "      <td>...</td>\n",
              "      <td>0</td>\n",
              "      <td>0</td>\n",
              "      <td>0</td>\n",
              "      <td>0</td>\n",
              "      <td>0</td>\n",
              "      <td>0</td>\n",
              "      <td>0</td>\n",
              "      <td>0</td>\n",
              "      <td>0</td>\n",
              "      <td>0</td>\n",
              "    </tr>\n",
              "    <tr>\n",
              "      <th>...</th>\n",
              "      <td>...</td>\n",
              "      <td>...</td>\n",
              "      <td>...</td>\n",
              "      <td>...</td>\n",
              "      <td>...</td>\n",
              "      <td>...</td>\n",
              "      <td>...</td>\n",
              "      <td>...</td>\n",
              "      <td>...</td>\n",
              "      <td>...</td>\n",
              "      <td>...</td>\n",
              "      <td>...</td>\n",
              "      <td>...</td>\n",
              "      <td>...</td>\n",
              "      <td>...</td>\n",
              "      <td>...</td>\n",
              "      <td>...</td>\n",
              "      <td>...</td>\n",
              "      <td>...</td>\n",
              "      <td>...</td>\n",
              "      <td>...</td>\n",
              "    </tr>\n",
              "    <tr>\n",
              "      <th>994</th>\n",
              "      <td>0</td>\n",
              "      <td>0</td>\n",
              "      <td>0</td>\n",
              "      <td>1</td>\n",
              "      <td>0</td>\n",
              "      <td>0</td>\n",
              "      <td>1</td>\n",
              "      <td>0</td>\n",
              "      <td>0</td>\n",
              "      <td>0</td>\n",
              "      <td>...</td>\n",
              "      <td>0</td>\n",
              "      <td>0</td>\n",
              "      <td>0</td>\n",
              "      <td>0</td>\n",
              "      <td>0</td>\n",
              "      <td>0</td>\n",
              "      <td>0</td>\n",
              "      <td>0</td>\n",
              "      <td>0</td>\n",
              "      <td>0</td>\n",
              "    </tr>\n",
              "    <tr>\n",
              "      <th>995</th>\n",
              "      <td>0</td>\n",
              "      <td>0</td>\n",
              "      <td>0</td>\n",
              "      <td>1</td>\n",
              "      <td>0</td>\n",
              "      <td>1</td>\n",
              "      <td>1</td>\n",
              "      <td>0</td>\n",
              "      <td>0</td>\n",
              "      <td>0</td>\n",
              "      <td>...</td>\n",
              "      <td>1</td>\n",
              "      <td>1</td>\n",
              "      <td>1</td>\n",
              "      <td>1</td>\n",
              "      <td>0</td>\n",
              "      <td>0</td>\n",
              "      <td>0</td>\n",
              "      <td>0</td>\n",
              "      <td>0</td>\n",
              "      <td>0</td>\n",
              "    </tr>\n",
              "    <tr>\n",
              "      <th>996</th>\n",
              "      <td>0</td>\n",
              "      <td>0</td>\n",
              "      <td>0</td>\n",
              "      <td>1</td>\n",
              "      <td>1</td>\n",
              "      <td>1</td>\n",
              "      <td>1</td>\n",
              "      <td>0</td>\n",
              "      <td>0</td>\n",
              "      <td>0</td>\n",
              "      <td>...</td>\n",
              "      <td>0</td>\n",
              "      <td>0</td>\n",
              "      <td>0</td>\n",
              "      <td>0</td>\n",
              "      <td>1</td>\n",
              "      <td>1</td>\n",
              "      <td>0</td>\n",
              "      <td>0</td>\n",
              "      <td>0</td>\n",
              "      <td>0</td>\n",
              "    </tr>\n",
              "    <tr>\n",
              "      <th>997</th>\n",
              "      <td>0</td>\n",
              "      <td>0</td>\n",
              "      <td>0</td>\n",
              "      <td>0</td>\n",
              "      <td>0</td>\n",
              "      <td>1</td>\n",
              "      <td>1</td>\n",
              "      <td>3</td>\n",
              "      <td>0</td>\n",
              "      <td>0</td>\n",
              "      <td>...</td>\n",
              "      <td>0</td>\n",
              "      <td>0</td>\n",
              "      <td>0</td>\n",
              "      <td>0</td>\n",
              "      <td>0</td>\n",
              "      <td>0</td>\n",
              "      <td>1</td>\n",
              "      <td>1</td>\n",
              "      <td>1</td>\n",
              "      <td>1</td>\n",
              "    </tr>\n",
              "    <tr>\n",
              "      <th>998</th>\n",
              "      <td>0</td>\n",
              "      <td>0</td>\n",
              "      <td>0</td>\n",
              "      <td>0</td>\n",
              "      <td>0</td>\n",
              "      <td>0</td>\n",
              "      <td>0</td>\n",
              "      <td>0</td>\n",
              "      <td>0</td>\n",
              "      <td>0</td>\n",
              "      <td>...</td>\n",
              "      <td>0</td>\n",
              "      <td>0</td>\n",
              "      <td>0</td>\n",
              "      <td>0</td>\n",
              "      <td>0</td>\n",
              "      <td>0</td>\n",
              "      <td>0</td>\n",
              "      <td>0</td>\n",
              "      <td>0</td>\n",
              "      <td>0</td>\n",
              "    </tr>\n",
              "  </tbody>\n",
              "</table>\n",
              "<p>999 rows × 17352 columns</p>\n",
              "</div>\n",
              "      <button class=\"colab-df-convert\" onclick=\"convertToInteractive('df-3afdfb21-0a96-4e94-a2db-cb1d1e642e88')\"\n",
              "              title=\"Convert this dataframe to an interactive table.\"\n",
              "              style=\"display:none;\">\n",
              "        \n",
              "  <svg xmlns=\"http://www.w3.org/2000/svg\" height=\"24px\"viewBox=\"0 0 24 24\"\n",
              "       width=\"24px\">\n",
              "    <path d=\"M0 0h24v24H0V0z\" fill=\"none\"/>\n",
              "    <path d=\"M18.56 5.44l.94 2.06.94-2.06 2.06-.94-2.06-.94-.94-2.06-.94 2.06-2.06.94zm-11 1L8.5 8.5l.94-2.06 2.06-.94-2.06-.94L8.5 2.5l-.94 2.06-2.06.94zm10 10l.94 2.06.94-2.06 2.06-.94-2.06-.94-.94-2.06-.94 2.06-2.06.94z\"/><path d=\"M17.41 7.96l-1.37-1.37c-.4-.4-.92-.59-1.43-.59-.52 0-1.04.2-1.43.59L10.3 9.45l-7.72 7.72c-.78.78-.78 2.05 0 2.83L4 21.41c.39.39.9.59 1.41.59.51 0 1.02-.2 1.41-.59l7.78-7.78 2.81-2.81c.8-.78.8-2.07 0-2.86zM5.41 20L4 18.59l7.72-7.72 1.47 1.35L5.41 20z\"/>\n",
              "  </svg>\n",
              "      </button>\n",
              "      \n",
              "  <style>\n",
              "    .colab-df-container {\n",
              "      display:flex;\n",
              "      flex-wrap:wrap;\n",
              "      gap: 12px;\n",
              "    }\n",
              "\n",
              "    .colab-df-convert {\n",
              "      background-color: #E8F0FE;\n",
              "      border: none;\n",
              "      border-radius: 50%;\n",
              "      cursor: pointer;\n",
              "      display: none;\n",
              "      fill: #1967D2;\n",
              "      height: 32px;\n",
              "      padding: 0 0 0 0;\n",
              "      width: 32px;\n",
              "    }\n",
              "\n",
              "    .colab-df-convert:hover {\n",
              "      background-color: #E2EBFA;\n",
              "      box-shadow: 0px 1px 2px rgba(60, 64, 67, 0.3), 0px 1px 3px 1px rgba(60, 64, 67, 0.15);\n",
              "      fill: #174EA6;\n",
              "    }\n",
              "\n",
              "    [theme=dark] .colab-df-convert {\n",
              "      background-color: #3B4455;\n",
              "      fill: #D2E3FC;\n",
              "    }\n",
              "\n",
              "    [theme=dark] .colab-df-convert:hover {\n",
              "      background-color: #434B5C;\n",
              "      box-shadow: 0px 1px 3px 1px rgba(0, 0, 0, 0.15);\n",
              "      filter: drop-shadow(0px 1px 2px rgba(0, 0, 0, 0.3));\n",
              "      fill: #FFFFFF;\n",
              "    }\n",
              "  </style>\n",
              "\n",
              "      <script>\n",
              "        const buttonEl =\n",
              "          document.querySelector('#df-3afdfb21-0a96-4e94-a2db-cb1d1e642e88 button.colab-df-convert');\n",
              "        buttonEl.style.display =\n",
              "          google.colab.kernel.accessAllowed ? 'block' : 'none';\n",
              "\n",
              "        async function convertToInteractive(key) {\n",
              "          const element = document.querySelector('#df-3afdfb21-0a96-4e94-a2db-cb1d1e642e88');\n",
              "          const dataTable =\n",
              "            await google.colab.kernel.invokeFunction('convertToInteractive',\n",
              "                                                     [key], {});\n",
              "          if (!dataTable) return;\n",
              "\n",
              "          const docLinkHtml = 'Like what you see? Visit the ' +\n",
              "            '<a target=\"_blank\" href=https://colab.research.google.com/notebooks/data_table.ipynb>data table notebook</a>'\n",
              "            + ' to learn more about interactive tables.';\n",
              "          element.innerHTML = '';\n",
              "          dataTable['output_type'] = 'display_data';\n",
              "          await google.colab.output.renderOutput(dataTable, element);\n",
              "          const docLink = document.createElement('div');\n",
              "          docLink.innerHTML = docLinkHtml;\n",
              "          element.appendChild(docLink);\n",
              "        }\n",
              "      </script>\n",
              "    </div>\n",
              "  </div>\n",
              "  "
            ]
          },
          "metadata": {},
          "execution_count": 168
        }
      ]
    },
    {
      "cell_type": "markdown",
      "source": [
        "##The Input Queries"
      ],
      "metadata": {
        "id": "oVOWv8VAupDH"
      }
    },
    {
      "cell_type": "code",
      "source": [
        "all_queries = [\n",
        "   'آخرین مهلت ثبتنام آزمون کارشناسی ارشد',\n",
        " 'واریز سود سهام عدالت کارگران و زنان سرپرست',\n",
        " 'تبریک مدیرعامل بانک ملت به مناسبت روز مهندسی',\n",
        " 'به خیابان آمدن هزاران رومانیایی در اعتراض به حکم جدید دولت',\n",
        " 'طرح استیضاح رئیس جمهور',\n",
        " 'واکسیناسیون فلج اطفال در سیستان وبلوچستان',\n",
        " 'رقابتهای اسکی صحرانوردی قهرمان جهانی',\n",
        " 'روش های پیشگیری و مهمترین اصل در تشخیص بههنگام سرطان',\n",
        " 'ترکیب تیم منتخب ایران برای حضور در جام جهانی کشتی آزاد',\n",
        " 'فروش و توزیع میوههای لاکچری قاچاق',\n",
        " 'معاونت پژوهشی موسسه حکمت و فلسفه ایران',\n",
        " 'تساوی بدون گل لیورپول و بایرن مونیخ در دیدار رفت یک هشت نهایی لیگ قهرمانان اروپا'\n",
        "]"
      ],
      "metadata": {
        "id": "D0XoVESVDM9m"
      },
      "execution_count": null,
      "outputs": []
    },
    {
      "cell_type": "markdown",
      "source": [
        "##Jccard"
      ],
      "metadata": {
        "id": "p48xFyqaumn0"
      }
    },
    {
      "cell_type": "code",
      "source": [
        "def create_query_df(tokens):\n",
        "  df = pd.DataFrame()\n",
        "  for t in tokens:\n",
        "    if t in df.columns:\n",
        "      df[t][0] += 1\n",
        "    else:\n",
        "      df[t] = [1]\n",
        "  return df"
      ],
      "metadata": {
        "id": "08HTXpVVMFk-"
      },
      "execution_count": null,
      "outputs": []
    },
    {
      "cell_type": "code",
      "source": [
        "def create_query_df1(query):\n",
        "  tokens = hazm_process_news(all_queries[0])\n",
        "  df = pd.DataFrame()\n",
        "  for t in tokens:\n",
        "    if t in df.columns:\n",
        "      df[t][0] += 1\n",
        "    else:\n",
        "      df[t] = [1]\n",
        "  return df\n",
        ""
      ],
      "metadata": {
        "id": "0NkGQayyVGAt"
      },
      "execution_count": null,
      "outputs": []
    },
    {
      "cell_type": "code",
      "source": [
        "def jaccard(query):\n",
        "  query_df = create_query_df(hazm_process_news(query))\n",
        "  common_tokens =  [x for x in query_df.columns if x in df.columns]\n",
        "  all_scores = {}\n",
        "  for i in range(df.index.size):\n",
        "    intersection = len([x for x in common_tokens if df.iloc[i][x]>=1])\n",
        "    union = sum(df.iloc[i]) + len(query_df) - len(common_tokens)\n",
        "    if union > 0:\n",
        "      all_scores[i] = intersection/math.sqrt(union)\n",
        "  return(all_scores)"
      ],
      "metadata": {
        "id": "H7HZXv7KhzKX"
      },
      "execution_count": null,
      "outputs": []
    },
    {
      "cell_type": "code",
      "source": [
        "def print_jccard_top_10(query):\n",
        "  j_score = jaccard(query)\n",
        "  jccard_score = sorted(j_score.items(), key=lambda x:x[1], reverse=True)\n",
        "  print(jccard_score[:10])"
      ],
      "metadata": {
        "id": "z2k608P2JIPU"
      },
      "execution_count": null,
      "outputs": []
    },
    {
      "cell_type": "markdown",
      "source": [
        "##Normalized tf"
      ],
      "metadata": {
        "id": "CI-rwp4Mdv-3"
      }
    },
    {
      "cell_type": "code",
      "source": [
        "def normalized_tf(query):\n",
        "  query_df = create_query_df(hazm_process_news(query))\n",
        "  tf_list = {}\n",
        "  for i in range(df.index.size):\n",
        "    TOKENS_COUNT = sum(df.iloc[i])\n",
        "    tf_list[i] = 0\n",
        "    if TOKENS_COUNT > 0:\n",
        "      for term in query_df:\n",
        "        tf_i = 0\n",
        "        if term in df.columns:\n",
        "          tf_i = df.iloc[i][term]/TOKENS_COUNT\n",
        "      tf_list[i] += tf_i\n",
        "  return tf_list"
      ],
      "metadata": {
        "id": "H1_SBJt4dzXX"
      },
      "execution_count": null,
      "outputs": []
    },
    {
      "cell_type": "code",
      "source": [
        "def print_normalized_tf_top_10(query):\n",
        "  tf = normalized_tf(query)\n",
        "  tf_sorted = sorted(tf.items(), key=lambda x:x[1], reverse=True)\n",
        "  print(tf_sorted[:10])"
      ],
      "metadata": {
        "id": "vDQbDms9guOM"
      },
      "execution_count": null,
      "outputs": []
    },
    {
      "cell_type": "markdown",
      "source": [
        "#tf-idf"
      ],
      "metadata": {
        "id": "qmICqLqb1WcJ"
      }
    },
    {
      "cell_type": "markdown",
      "source": [
        "generate document-frequency based dataframe"
      ],
      "metadata": {
        "id": "TZqSZuDj9prw"
      }
    },
    {
      "cell_type": "code",
      "source": [
        "DF_ROW = 0\n",
        "IDF_ROW = 1\n",
        "col = np.arange(2)\n",
        "idf_dataframe = pd.DataFrame(0,index=col, columns=data_keys)\n",
        "\n",
        "# calculating document frequency\n",
        "for token in values:\n",
        "  idf_dataframe[token][DF_ROW] = len(values[token])\n",
        "\n",
        "# calculating inverse document frequency\n",
        "TOTAL_DOCUMENTS_COUNT = len(news)\n",
        "for token in idf_dataframe.columns:\n",
        "  document_frequency = idf_dataframe[token][DF_ROW]\n",
        "  idf_dataframe[token][IDF_ROW] = math.log10(TOTAL_DOCUMENTS_COUNT/document_frequency)\n",
        "\n",
        "idf_dataframe"
      ],
      "metadata": {
        "colab": {
          "base_uri": "https://localhost:8080/",
          "height": 205
        },
        "id": "9UCMIi2J9pZX",
        "outputId": "919aa8e5-95b2-4dae-f0a0-1a8a5ee02ef3"
      },
      "execution_count": null,
      "outputs": [
        {
          "output_type": "execute_result",
          "data": {
            "text/plain": [
              "         محمد        نور   گفتوگوبا    خبرنگار       ورزش     خبرگزار  \\\n",
              "0  127.000000  24.000000  25.000000  408.00000  82.000000  851.000000   \n",
              "1    0.895327   1.618919   1.601191    0.38847   1.085317    0.069201   \n",
              "\n",
              "        فارس        مورد      پیروز    ذوب‌آهن  ...   هنرپیشه  نتوانسته_بود  \\\n",
              "0  942.00000  244.000000  85.000000  14.000000  ...  1.000000      1.000000   \n",
              "1    0.02508    0.611741   1.069712   1.853003  ...  2.999131      2.999131   \n",
              "\n",
              "   چندده‌میلیاردی     ۱۲:۳۰  سعادتمند    میرشاد     پندار    خمارلو      موکد  \\\n",
              "0        1.000000  1.000000  1.000000  1.000000  1.000000  1.000000  1.000000   \n",
              "1        2.999131  2.999131  2.999131  2.999131  2.999131  2.999131  2.999131   \n",
              "\n",
              "      راهرو  \n",
              "0  1.000000  \n",
              "1  2.999131  \n",
              "\n",
              "[2 rows x 17352 columns]"
            ],
            "text/html": [
              "\n",
              "  <div id=\"df-f834ce04-e176-4c5f-a5d9-4b9b84403ade\">\n",
              "    <div class=\"colab-df-container\">\n",
              "      <div>\n",
              "<style scoped>\n",
              "    .dataframe tbody tr th:only-of-type {\n",
              "        vertical-align: middle;\n",
              "    }\n",
              "\n",
              "    .dataframe tbody tr th {\n",
              "        vertical-align: top;\n",
              "    }\n",
              "\n",
              "    .dataframe thead th {\n",
              "        text-align: right;\n",
              "    }\n",
              "</style>\n",
              "<table border=\"1\" class=\"dataframe\">\n",
              "  <thead>\n",
              "    <tr style=\"text-align: right;\">\n",
              "      <th></th>\n",
              "      <th>محمد</th>\n",
              "      <th>نور</th>\n",
              "      <th>گفتوگوبا</th>\n",
              "      <th>خبرنگار</th>\n",
              "      <th>ورزش</th>\n",
              "      <th>خبرگزار</th>\n",
              "      <th>فارس</th>\n",
              "      <th>مورد</th>\n",
              "      <th>پیروز</th>\n",
              "      <th>ذوب‌آهن</th>\n",
              "      <th>...</th>\n",
              "      <th>هنرپیشه</th>\n",
              "      <th>نتوانسته_بود</th>\n",
              "      <th>چندده‌میلیاردی</th>\n",
              "      <th>۱۲:۳۰</th>\n",
              "      <th>سعادتمند</th>\n",
              "      <th>میرشاد</th>\n",
              "      <th>پندار</th>\n",
              "      <th>خمارلو</th>\n",
              "      <th>موکد</th>\n",
              "      <th>راهرو</th>\n",
              "    </tr>\n",
              "  </thead>\n",
              "  <tbody>\n",
              "    <tr>\n",
              "      <th>0</th>\n",
              "      <td>127.000000</td>\n",
              "      <td>24.000000</td>\n",
              "      <td>25.000000</td>\n",
              "      <td>408.00000</td>\n",
              "      <td>82.000000</td>\n",
              "      <td>851.000000</td>\n",
              "      <td>942.00000</td>\n",
              "      <td>244.000000</td>\n",
              "      <td>85.000000</td>\n",
              "      <td>14.000000</td>\n",
              "      <td>...</td>\n",
              "      <td>1.000000</td>\n",
              "      <td>1.000000</td>\n",
              "      <td>1.000000</td>\n",
              "      <td>1.000000</td>\n",
              "      <td>1.000000</td>\n",
              "      <td>1.000000</td>\n",
              "      <td>1.000000</td>\n",
              "      <td>1.000000</td>\n",
              "      <td>1.000000</td>\n",
              "      <td>1.000000</td>\n",
              "    </tr>\n",
              "    <tr>\n",
              "      <th>1</th>\n",
              "      <td>0.895327</td>\n",
              "      <td>1.618919</td>\n",
              "      <td>1.601191</td>\n",
              "      <td>0.38847</td>\n",
              "      <td>1.085317</td>\n",
              "      <td>0.069201</td>\n",
              "      <td>0.02508</td>\n",
              "      <td>0.611741</td>\n",
              "      <td>1.069712</td>\n",
              "      <td>1.853003</td>\n",
              "      <td>...</td>\n",
              "      <td>2.999131</td>\n",
              "      <td>2.999131</td>\n",
              "      <td>2.999131</td>\n",
              "      <td>2.999131</td>\n",
              "      <td>2.999131</td>\n",
              "      <td>2.999131</td>\n",
              "      <td>2.999131</td>\n",
              "      <td>2.999131</td>\n",
              "      <td>2.999131</td>\n",
              "      <td>2.999131</td>\n",
              "    </tr>\n",
              "  </tbody>\n",
              "</table>\n",
              "<p>2 rows × 17352 columns</p>\n",
              "</div>\n",
              "      <button class=\"colab-df-convert\" onclick=\"convertToInteractive('df-f834ce04-e176-4c5f-a5d9-4b9b84403ade')\"\n",
              "              title=\"Convert this dataframe to an interactive table.\"\n",
              "              style=\"display:none;\">\n",
              "        \n",
              "  <svg xmlns=\"http://www.w3.org/2000/svg\" height=\"24px\"viewBox=\"0 0 24 24\"\n",
              "       width=\"24px\">\n",
              "    <path d=\"M0 0h24v24H0V0z\" fill=\"none\"/>\n",
              "    <path d=\"M18.56 5.44l.94 2.06.94-2.06 2.06-.94-2.06-.94-.94-2.06-.94 2.06-2.06.94zm-11 1L8.5 8.5l.94-2.06 2.06-.94-2.06-.94L8.5 2.5l-.94 2.06-2.06.94zm10 10l.94 2.06.94-2.06 2.06-.94-2.06-.94-.94-2.06-.94 2.06-2.06.94z\"/><path d=\"M17.41 7.96l-1.37-1.37c-.4-.4-.92-.59-1.43-.59-.52 0-1.04.2-1.43.59L10.3 9.45l-7.72 7.72c-.78.78-.78 2.05 0 2.83L4 21.41c.39.39.9.59 1.41.59.51 0 1.02-.2 1.41-.59l7.78-7.78 2.81-2.81c.8-.78.8-2.07 0-2.86zM5.41 20L4 18.59l7.72-7.72 1.47 1.35L5.41 20z\"/>\n",
              "  </svg>\n",
              "      </button>\n",
              "      \n",
              "  <style>\n",
              "    .colab-df-container {\n",
              "      display:flex;\n",
              "      flex-wrap:wrap;\n",
              "      gap: 12px;\n",
              "    }\n",
              "\n",
              "    .colab-df-convert {\n",
              "      background-color: #E8F0FE;\n",
              "      border: none;\n",
              "      border-radius: 50%;\n",
              "      cursor: pointer;\n",
              "      display: none;\n",
              "      fill: #1967D2;\n",
              "      height: 32px;\n",
              "      padding: 0 0 0 0;\n",
              "      width: 32px;\n",
              "    }\n",
              "\n",
              "    .colab-df-convert:hover {\n",
              "      background-color: #E2EBFA;\n",
              "      box-shadow: 0px 1px 2px rgba(60, 64, 67, 0.3), 0px 1px 3px 1px rgba(60, 64, 67, 0.15);\n",
              "      fill: #174EA6;\n",
              "    }\n",
              "\n",
              "    [theme=dark] .colab-df-convert {\n",
              "      background-color: #3B4455;\n",
              "      fill: #D2E3FC;\n",
              "    }\n",
              "\n",
              "    [theme=dark] .colab-df-convert:hover {\n",
              "      background-color: #434B5C;\n",
              "      box-shadow: 0px 1px 3px 1px rgba(0, 0, 0, 0.15);\n",
              "      filter: drop-shadow(0px 1px 2px rgba(0, 0, 0, 0.3));\n",
              "      fill: #FFFFFF;\n",
              "    }\n",
              "  </style>\n",
              "\n",
              "      <script>\n",
              "        const buttonEl =\n",
              "          document.querySelector('#df-f834ce04-e176-4c5f-a5d9-4b9b84403ade button.colab-df-convert');\n",
              "        buttonEl.style.display =\n",
              "          google.colab.kernel.accessAllowed ? 'block' : 'none';\n",
              "\n",
              "        async function convertToInteractive(key) {\n",
              "          const element = document.querySelector('#df-f834ce04-e176-4c5f-a5d9-4b9b84403ade');\n",
              "          const dataTable =\n",
              "            await google.colab.kernel.invokeFunction('convertToInteractive',\n",
              "                                                     [key], {});\n",
              "          if (!dataTable) return;\n",
              "\n",
              "          const docLinkHtml = 'Like what you see? Visit the ' +\n",
              "            '<a target=\"_blank\" href=https://colab.research.google.com/notebooks/data_table.ipynb>data table notebook</a>'\n",
              "            + ' to learn more about interactive tables.';\n",
              "          element.innerHTML = '';\n",
              "          dataTable['output_type'] = 'display_data';\n",
              "          await google.colab.output.renderOutput(dataTable, element);\n",
              "          const docLink = document.createElement('div');\n",
              "          docLink.innerHTML = docLinkHtml;\n",
              "          element.appendChild(docLink);\n",
              "        }\n",
              "      </script>\n",
              "    </div>\n",
              "  </div>\n",
              "  "
            ]
          },
          "metadata": {},
          "execution_count": 181
        }
      ]
    },
    {
      "cell_type": "code",
      "source": [
        "def tf_idf(query):\n",
        "  query_df = create_query_df(hazm_process_news(query))\n",
        "  tf_idf_list = []\n",
        "  for i in range(TOTAL_DOCUMENTS_COUNT):\n",
        "    tf_idf_val = 0\n",
        "    for word in query_df.columns:\n",
        "      if word in df.columns:\n",
        "        freq = df[word][i]\n",
        "        tf = 1 + math.log10(freq) if freq > 0 else 0\n",
        "        idf = idf_dataframe[word][IDF_ROW]\n",
        "        tf_idf_val = tf*idf\n",
        "      # else:\n",
        "      #   freq = 0\n",
        "      #   tf = 0\n",
        "      #   idf = 0\n",
        "      #   tf_idf_val = tf*idf\n",
        "    tf_idf_list.append((i, tf_idf_val))\n",
        "  return tf_idf_list"
      ],
      "metadata": {
        "id": "eiMLBH3bQ6mA"
      },
      "execution_count": null,
      "outputs": []
    },
    {
      "cell_type": "code",
      "source": [
        "def print_tf_idf_top_10(query):\n",
        "  result = tf_idf(query)\n",
        "  sorted_result = sorted(result, key=lambda x:x[1], reverse=True)\n",
        "  print(sorted_result[:10])"
      ],
      "metadata": {
        "id": "HEzzSC6JRh8X"
      },
      "execution_count": null,
      "outputs": []
    },
    {
      "cell_type": "markdown",
      "source": [
        "#Output Result"
      ],
      "metadata": {
        "id": "aKNL4fPzHY3E"
      }
    },
    {
      "cell_type": "code",
      "source": [
        "for index, query in enumerate(all_queries):\n",
        "  print(index+1)\n",
        "  print_jccard_top_10(query)\n",
        "  print_normalized_tf_top_10(query)\n",
        "  print_tf_idf_top_10(query)\n",
        "  print(\"---------\")"
      ],
      "metadata": {
        "colab": {
          "base_uri": "https://localhost:8080/"
        },
        "id": "lk8skYE0FMg_",
        "outputId": "ce91fc36-b541-4775-ea3d-1d54c9c8b617"
      },
      "execution_count": null,
      "outputs": [
        {
          "output_type": "stream",
          "name": "stdout",
          "text": [
            "1\n",
            "[(19, 0.2727272727272727), (865, 0.21566554640687682), (921, 0.19802950859533489), (157, 0.1889822365046136), (18, 0.173421993904824), (905, 0.1708715315433522), (225, 0.16169041669088866), (539, 0.15961737689352443), (425, 0.15617376188860607), (907, 0.15617376188860607)]\n",
            "[(905, 0.02127659574468085), (18, 0.014598540145985401), (820, 0.01263537906137184), (181, 0.011627906976744186), (230, 0.0111731843575419), (865, 0.011111111111111112), (921, 0.009433962264150943), (737, 0.008771929824561403), (19, 0.008), (52, 0.00641025641025641)]\n",
            "[(820, 2.835422203832089), (48, 2.269940302658434), (905, 2.269940302658434), (18, 1.9993351342613286), (150, 1.9993351342613286), (173, 1.9993351342613286), (230, 1.9993351342613286), (325, 1.9993351342613286), (442, 1.9993351342613286), (737, 1.9993351342613286)]\n",
            "---------\n",
            "2\n",
            "[(846, 0.3952847075210474), (450, 0.18569533817705186), (770, 0.18257418583505536), (518, 0.16275769175423188), (36, 0.15075567228888181), (685, 0.15032920560056579), (625, 0.14907119849998599), (600, 0.1403724812687193), (435, 0.1386750490563073), (214, 0.13736056394868904)]\n",
            "[(450, 0.030303030303030304), (350, 0.025974025974025976), (36, 0.020833333333333332), (625, 0.02040816326530612), (725, 0.01694915254237288), (816, 0.013513513513513514), (903, 0.013157894736842105), (479, 0.012903225806451613), (244, 0.01282051282051282), (846, 0.012195121951219513)]\n",
            "[(479, 2.343406513617968), (820, 2.343406513617968), (45, 1.7146135153539555), (244, 1.7146135153539555), (277, 1.7146135153539555), (350, 1.7146135153539555), (362, 1.7146135153539555), (400, 1.7146135153539555), (447, 1.7146135153539555), (685, 1.7146135153539555)]\n",
            "---------\n",
            "3\n",
            "[(827, 0.5521576303742327), (944, 0.29814239699997197), (421, 0.23094010767585027), (504, 0.227429413073671), (917, 0.2211629342323457), (213, 0.2170723815877265), (626, 0.21538744758532144), (801, 0.20965696734438366), (510, 0.20739033894608505), (51, 0.2)]\n",
            "[(513, 0.08633093525179857), (827, 0.04597701149425287), (947, 0.04), (599, 0.039473684210526314), (908, 0.024509803921568627), (560, 0.017857142857142856), (905, 0.014184397163120567), (865, 0.011111111111111112), (614, 0.010869565217391304), (510, 0.01020408163265306)]\n",
            "[(513, 3.1645331649419055), (599, 2.7063627160058883), (908, 2.585848124199401), (947, 2.585848124199401), (560, 2.4383501844397415), (827, 2.4383501844397415), (682, 2.248192267069872), (310, 1.9801797355037252), (614, 1.9801797355037252), (905, 1.9801797355037252)]\n",
            "---------\n",
            "4\n",
            "[(797, 0.3450327796711771), (345, 0.3344968040028363), (139, 0.27975144247209416), (439, 0.22613350843332272), (646, 0.22485950669875843), (353, 0.22056438662814232), (642, 0.20225995873897262), (804, 0.2013468165642073), (834, 0.19245008972987526), (522, 0.1901172751573434)]\n",
            "[(52, 0.05128205128205128), (921, 0.04716981132075472), (309, 0.04), (407, 0.03431372549019608), (161, 0.033707865168539325), (139, 0.03305785123966942), (476, 0.028985507246376812), (940, 0.028169014084507043), (117, 0.026923076923076925), (642, 0.02654867256637168)]\n",
            "[(690, 1.7202199836284906), (362, 1.5744115266590508), (940, 1.5424876733473951), (161, 1.5071974907708194), (52, 1.4677464231029638), (442, 1.4677464231029638), (979, 1.4677464231029638), (71, 1.423020491419715), (117, 1.423020491419715), (407, 1.423020491419715)]\n",
            "---------\n",
            "5\n",
            "[(671, 0.5039526306789696), (77, 0.30499714066520933), (399, 0.30304576336566325), (736, 0.2917299829957891), (994, 0.23249527748763857), (912, 0.2250175801852048), (295, 0.22360679774997896), (453, 0.2222222222222222), (239, 0.21566554640687682), (831, 0.211999576001272)]\n",
            "[(280, 0.03225806451612903), (990, 0.028735632183908046), (338, 0.024793388429752067), (453, 0.023809523809523808), (588, 0.022900763358778626), (77, 0.021739130434782608), (852, 0.02077922077922078), (736, 0.02), (120, 0.018518518518518517), (167, 0.017857142857142856)]\n",
            "[(180, 1.9080337107943781), (852, 1.7787659749424534), (17, 1.7245624938618647), (150, 1.661989167145565), (173, 1.587980629826905), (280, 1.587980629826905), (330, 1.587980629826905), (442, 1.587980629826905), (489, 1.587980629826905), (779, 1.587980629826905)]\n",
            "---------\n",
            "6\n",
            "[(519, 0.3508232077228117), (49, 0.1259881576697424), (29, 0.12126781251816648), (706, 0.1125087900926024), (954, 0.11043152607484653), (239, 0.10783277320343841), (5, 0.10721125348377948), (203, 0.10425720702853739), (201, 0.09712858623572641), (945, 0.09667364890456635)]\n",
            "[(0, 0), (1, 0), (2, 0), (3, 0), (4, 0), (5, 0), (6, 0), (7, 0), (8, 0), (9, 0)]\n",
            "[(362, 2.318629492080666), (307, 2.095676526354213), (788, 2.095676526354213), (153, 1.8196320438405011), (166, 1.8196320438405011), (582, 1.8196320438405011), (745, 1.8196320438405011), (754, 1.8196320438405011), (303, 1.6777256671255039), (485, 1.6777256671255039)]\n",
            "---------\n",
            "7\n",
            "[(441, 0.5330017908890261), (794, 0.22645540682891913), (954, 0.2222222222222222), (426, 0.21081851067789195), (936, 0.20628424925175867), (542, 0.20412414523193154), (616, 0.19611613513818404), (436, 0.1933472978091327), (450, 0.18569533817705186), (158, 0.1841149235796647)]\n",
            "[(426, 0.0425531914893617), (838, 0.041666666666666664), (773, 0.037383177570093455), (864, 0.03125), (185, 0.029411764705882353), (847, 0.024714828897338403), (954, 0.023529411764705882), (936, 0.02040816326530612), (435, 0.017857142857142856), (278, 0.017543859649122806)]\n",
            "[(847, 2.6338798687007716), (864, 1.93933269939639), (150, 1.7472795561719972), (173, 1.7472795561719972), (426, 1.7472795561719972), (773, 1.7472795561719972), (779, 1.7472795561719972), (822, 1.7472795561719972), (967, 1.7472795561719972), (185, 1.611015682514752)]\n",
            "---------\n",
            "8\n",
            "[(418, 0.2864459496157732), (285, 0.23076923076923078), (14, 0.19611613513818404), (721, 0.19245008972987526), (526, 0.1732050807568877), (166, 0.16275769175423188), (225, 0.16169041669088866), (980, 0.14535047493345277), (413, 0.14417079939966382), (927, 0.13736056394868904)]\n",
            "[(418, 0.06030150753768844), (285, 0.011560693641618497), (541, 0.007633587786259542), (980, 0.004651162790697674), (694, 0.0029069767441860465), (765, 0.0027397260273972603), (392, 0.0015174506828528073), (24, 0.000724112961622013), (0, 0.0), (1, 0.0)]\n",
            "[(418, 4.358048211446322), (285, 2.727011633266509), (541, 2.727011633266509), (980, 2.727011633266509), (24, 2.0960405542954277), (392, 2.0960405542954277), (694, 2.0960405542954277), (765, 2.0960405542954277), (0, 0.0), (1, 0.0)]\n",
            "---------\n",
            "9\n",
            "[(226, 0.6963106238227914), (616, 0.6255432421712244), (954, 0.5661385170722978), (278, 0.565685424949238), (425, 0.48666426339228763), (441, 0.4338609156373123), (426, 0.4288450139351179), (557, 0.42717882885838043), (721, 0.4082482904638631), (775, 0.4082482904638631)]\n",
            "[(327, 0.056179775280898875), (766, 0.046511627906976744), (775, 0.03225806451612903), (240, 0.03076923076923077), (437, 0.028985507246376812), (978, 0.026737967914438502), (802, 0.024242424242424242), (627, 0.022222222222222223), (930, 0.021834061135371178), (409, 0.02)]\n",
            "[(150, 1.9928026565988328), (173, 1.9928026565988328), (327, 1.8349767138099544), (930, 1.8349767138099544), (978, 1.8349767138099544), (748, 1.7303088169365775), (802, 1.7303088169365775), (116, 1.5953684284988994), (370, 1.5953684284988994), (11, 1.4051806329239374)]\n",
            "---------\n",
            "10\n",
            "[(238, 0.2260933675776886), (912, 0.2250175801852048), (106, 0.19653653462412551), (889, 0.19069251784911848), (400, 0.18534061896456464), (274, 0.18033392693348646), (824, 0.17407765595569785), (710, 0.16275769175423188), (523, 0.156812512046795), (56, 0.14704292441876154)]\n",
            "[(734, 0.06060606060606061), (633, 0.043010752688172046), (912, 0.036585365853658534), (877, 0.03409090909090909), (251, 0.023809523809523808), (121, 0.02142857142857143), (189, 0.021052631578947368), (885, 0.019801980198019802), (620, 0.017857142857142856), (238, 0.015822784810126583)]\n",
            "[(734, 2.732542893531347), (877, 2.732542893531347), (885, 2.732542893531347), (895, 2.732542893531347), (238, 2.6108624959039166), (620, 2.4619377251342422), (633, 2.4619377251342422), (121, 2.269940302658434), (583, 2.269940302658434), (912, 2.269940302658434)]\n",
            "---------\n",
            "11\n",
            "[(77, 0.31234752377721214), (122, 0.3110855084191276), (736, 0.29814239699997197), (993, 0.25), (273, 0.22941573387056174), (4, 0.2250175801852048), (718, 0.21821789023599236), (364, 0.21266436150250076), (159, 0.20412414523193154), (387, 0.2)]\n",
            "[(77, 0.06521739130434782), (441, 0.06521739130434782), (775, 0.06451612903225806), (325, 0.06398104265402843), (736, 0.06), (789, 0.058823529411764705), (53, 0.05384615384615385), (992, 0.052884615384615384), (280, 0.05161290322580645), (328, 0.050505050505050504)]\n",
            "[(72, 1.5190308661224163), (325, 1.5092268489515452), (330, 1.4540182154572734), (116, 1.4283244247082778), (442, 1.3999212567772523), (363, 1.3845124481089313), (782, 1.3845124481089313), (245, 1.3681692164584776), (479, 1.312193638604993), (789, 1.312193638604993)]\n",
            "---------\n",
            "12\n",
            "[(64, 1.4795908857482156), (206, 1.131370849898476), (134, 0.813733471206735), (490, 0.7808688094430304), (105, 0.7330166661378313), (237, 0.7181848464596079), (162, 0.7120689949163119), (231, 0.7071067811865476), (774, 0.674199862463242), (738, 0.6454972243679028)]\n",
            "[(715, 0.03636363636363636), (708, 0.0311284046692607), (105, 0.02666666666666667), (492, 0.02631578947368421), (10, 0.025466893039049237), (901, 0.02390438247011952), (64, 0.022222222222222223), (425, 0.022222222222222223), (830, 0.021035598705501618), (717, 0.02054794520547945)]\n",
            "[(10, 2.8483608398221576), (830, 2.767013302983493), (708, 2.491020066850426), (17, 2.4151124089758356), (901, 2.3274834489576786), (385, 2.0969915316532366), (715, 2.0969915316532366), (764, 2.0969915316532366), (847, 2.0969915316532366), (307, 1.933454913760489)]\n",
            "---------\n"
          ]
        }
      ]
    }
  ]
}